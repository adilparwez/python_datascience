{
 "cells": [
  {
   "cell_type": "raw",
   "metadata": {
    "collapsed": false
   },
   "source": [
    "import pandas as pd\n",
    "import numpy as np\n",
    "import matplotlib.pyplot as plt\n",
    "from sklearn.linear_model import LinearRegression\n",
    "from sklearn.metrics import mean_squared_error\n",
    "from sklearn.model_selection import KFold\n",
    "\n",
    "pd.options.display.max_columns = 999\n",
    "%matplotlib inline"
   ]
  },
  {
   "cell_type": "code",
   "execution_count": 2,
   "metadata": {
    "collapsed": false
   },
   "outputs": [],
   "source": [
    "data = pd.read_csv('AmesHousing.tsv', sep='\\t')\n",
    "data.head(2)\n",
    "data.shape\n",
    "\n",
    "df = data.copy()\n",
    "RMSE = []"
   ]
  },
  {
   "cell_type": "code",
   "execution_count": 3,
   "metadata": {
    "collapsed": false
   },
   "outputs": [
    {
     "data": {
      "text/plain": [
       "[57088.25161263909]"
      ]
     },
     "execution_count": 3,
     "metadata": {},
     "output_type": "execute_result"
    }
   ],
   "source": [
    "def transform_features(df):\n",
    "    return df.copy()\n",
    "\n",
    "def select_features(df):\n",
    "    return df[['Gr Liv Area', 'SalePrice']]\n",
    "\n",
    "def train_and_test(df):\n",
    "    \n",
    "    numeric_df = df.select_dtypes(include=['int', 'float'])\n",
    "    \n",
    "    train = numeric_df.iloc[:1460]\n",
    "    test = numeric_df.iloc[1460:]\n",
    "    \n",
    "    target = 'SalePrice'\n",
    "    features =  train.drop([target], axis='columns').columns\n",
    "    \n",
    "    lr = LinearRegression()\n",
    "    lr.fit(train[features], train[target])\n",
    "    labels = lr.predict(test[features])\n",
    "    \n",
    "    return mean_squared_error(labels, test[target])**0.5\n",
    "    \n",
    "\n",
    "transform_data = transform_features(data)\n",
    "filtered_data = select_features(transform_data)\n",
    "RMSE.append(train_and_test(filtered_data))\n",
    "RMSE"
   ]
  },
  {
   "cell_type": "markdown",
   "metadata": {},
   "source": [
    "## Feature Engineering"
   ]
  },
  {
   "cell_type": "markdown",
   "metadata": {},
   "source": [
    "drop any columns with greater than 25% null values"
   ]
  },
  {
   "cell_type": "code",
   "execution_count": 4,
   "metadata": {
    "collapsed": false
   },
   "outputs": [
    {
     "name": "stdout",
     "output_type": "stream",
     "text": [
      "(2930, 82)\n",
      "(2930, 82)\n"
     ]
    }
   ],
   "source": [
    "print(data.shape)\n",
    "null_count = df.isnull().sum()\n",
    "null_cols = null_count[null_count>0].index\n",
    "null_count = df[null_cols].isnull().sum()\n",
    "\n",
    "# > 25% null values\n",
    "\n",
    "drop_null_cols = null_count[null_count/len(df)*100 >=25].index\n",
    "df.drop(drop_null_cols, axis='columns', inplace=True)\n",
    "print(data.shape)"
   ]
  },
  {
   "cell_type": "markdown",
   "metadata": {},
   "source": [
    "For columns with less than 25% Missing Values:\n",
    "\n",
    "1. impute numeric coumns with mode()\n",
    "2. drop string columns"
   ]
  },
  {
   "cell_type": "code",
   "execution_count": 5,
   "metadata": {
    "collapsed": false
   },
   "outputs": [
    {
     "data": {
      "text/plain": [
       "Lot Frontage      0\n",
       "Mas Vnr Area      0\n",
       "BsmtFin SF 1      0\n",
       "BsmtFin SF 2      0\n",
       "Bsmt Unf SF       0\n",
       "Total Bsmt SF     0\n",
       "Bsmt Full Bath    0\n",
       "Bsmt Half Bath    0\n",
       "Garage Yr Blt     0\n",
       "Garage Cars       0\n",
       "Garage Area       0\n",
       "dtype: int64"
      ]
     },
     "execution_count": 5,
     "metadata": {},
     "output_type": "execute_result"
    }
   ],
   "source": [
    "# < 25% null values\n",
    "\n",
    "five_null_cols = null_count[null_count/len(df)*100 < 25].index\n",
    "num_null_cols = df[five_null_cols].select_dtypes(include=['int', 'float']).columns\n",
    "\n",
    "for col in num_null_cols:\n",
    "    df[col].fillna(df[col].mode()[0], inplace=True)\n",
    "\n",
    "# check null count\n",
    "df[num_null_cols].isnull().sum()"
   ]
  },
  {
   "cell_type": "code",
   "execution_count": 6,
   "metadata": {
    "collapsed": false
   },
   "outputs": [],
   "source": [
    "# < 25% null values where dtype is string\n",
    "\n",
    "five_null_cols = null_count[null_count/len(df)*100 < 25].index\n",
    "drop_null_cols = df[five_null_cols].select_dtypes(include=['object']).columns\n",
    "\n",
    "df.drop(drop_null_cols, axis='columns', inplace=True)\n"
   ]
  },
  {
   "cell_type": "code",
   "execution_count": 7,
   "metadata": {
    "collapsed": false
   },
   "outputs": [
    {
     "name": "stdout",
     "output_type": "stream",
     "text": [
      "<class 'pandas.core.frame.DataFrame'>\n",
      "RangeIndex: 2930 entries, 0 to 2929\n",
      "Data columns (total 66 columns):\n",
      "Order              2930 non-null int64\n",
      "PID                2930 non-null int64\n",
      "MS SubClass        2930 non-null int64\n",
      "MS Zoning          2930 non-null object\n",
      "Lot Frontage       2930 non-null float64\n",
      "Lot Area           2930 non-null int64\n",
      "Street             2930 non-null object\n",
      "Lot Shape          2930 non-null object\n",
      "Land Contour       2930 non-null object\n",
      "Utilities          2930 non-null object\n",
      "Lot Config         2930 non-null object\n",
      "Land Slope         2930 non-null object\n",
      "Neighborhood       2930 non-null object\n",
      "Condition 1        2930 non-null object\n",
      "Condition 2        2930 non-null object\n",
      "Bldg Type          2930 non-null object\n",
      "House Style        2930 non-null object\n",
      "Overall Qual       2930 non-null int64\n",
      "Overall Cond       2930 non-null int64\n",
      "Year Built         2930 non-null int64\n",
      "Year Remod/Add     2930 non-null int64\n",
      "Roof Style         2930 non-null object\n",
      "Roof Matl          2930 non-null object\n",
      "Exterior 1st       2930 non-null object\n",
      "Exterior 2nd       2930 non-null object\n",
      "Mas Vnr Area       2930 non-null float64\n",
      "Exter Qual         2930 non-null object\n",
      "Exter Cond         2930 non-null object\n",
      "Foundation         2930 non-null object\n",
      "BsmtFin SF 1       2930 non-null float64\n",
      "BsmtFin SF 2       2930 non-null float64\n",
      "Bsmt Unf SF        2930 non-null float64\n",
      "Total Bsmt SF      2930 non-null float64\n",
      "Heating            2930 non-null object\n",
      "Heating QC         2930 non-null object\n",
      "Central Air        2930 non-null object\n",
      "1st Flr SF         2930 non-null int64\n",
      "2nd Flr SF         2930 non-null int64\n",
      "Low Qual Fin SF    2930 non-null int64\n",
      "Gr Liv Area        2930 non-null int64\n",
      "Bsmt Full Bath     2930 non-null float64\n",
      "Bsmt Half Bath     2930 non-null float64\n",
      "Full Bath          2930 non-null int64\n",
      "Half Bath          2930 non-null int64\n",
      "Bedroom AbvGr      2930 non-null int64\n",
      "Kitchen AbvGr      2930 non-null int64\n",
      "Kitchen Qual       2930 non-null object\n",
      "TotRms AbvGrd      2930 non-null int64\n",
      "Functional         2930 non-null object\n",
      "Fireplaces         2930 non-null int64\n",
      "Garage Yr Blt      2930 non-null float64\n",
      "Garage Cars        2930 non-null float64\n",
      "Garage Area        2930 non-null float64\n",
      "Paved Drive        2930 non-null object\n",
      "Wood Deck SF       2930 non-null int64\n",
      "Open Porch SF      2930 non-null int64\n",
      "Enclosed Porch     2930 non-null int64\n",
      "3Ssn Porch         2930 non-null int64\n",
      "Screen Porch       2930 non-null int64\n",
      "Pool Area          2930 non-null int64\n",
      "Misc Val           2930 non-null int64\n",
      "Mo Sold            2930 non-null int64\n",
      "Yr Sold            2930 non-null int64\n",
      "Sale Type          2930 non-null object\n",
      "Sale Condition     2930 non-null object\n",
      "SalePrice          2930 non-null int64\n",
      "dtypes: float64(11), int64(28), object(27)\n",
      "memory usage: 1.5+ MB\n"
     ]
    }
   ],
   "source": [
    "df.info()"
   ]
  },
  {
   "cell_type": "code",
   "execution_count": 8,
   "metadata": {
    "collapsed": false
   },
   "outputs": [
    {
     "data": {
      "text/plain": [
       "2180   -1\n",
       "dtype: int64"
      ]
     },
     "execution_count": 8,
     "metadata": {},
     "output_type": "execute_result"
    }
   ],
   "source": [
    "yearsold = df['Yr Sold'] - df['Year Built']\n",
    "yearsold[yearsold<0]"
   ]
  },
  {
   "cell_type": "code",
   "execution_count": 9,
   "metadata": {
    "collapsed": false
   },
   "outputs": [
    {
     "data": {
      "text/plain": [
       "1702   -1\n",
       "2180   -2\n",
       "2181   -1\n",
       "dtype: int64"
      ]
     },
     "execution_count": 9,
     "metadata": {},
     "output_type": "execute_result"
    }
   ],
   "source": [
    "years_since_remod = df['Yr Sold'] - df['Year Remod/Add']\n",
    "years_since_remod[years_since_remod < 0]"
   ]
  },
  {
   "cell_type": "code",
   "execution_count": 10,
   "metadata": {
    "collapsed": false
   },
   "outputs": [],
   "source": [
    "# adding columns\n",
    "df['Years Before Sold'] = yearsold\n",
    "df['Years Since Remod']= years_since_remod\n",
    "     \n",
    "#dropping rows with -ve value\n",
    "df.drop([2180, 1702, 2181], inplace=True)     "
   ]
  },
  {
   "cell_type": "markdown",
   "metadata": {},
   "source": [
    "Removing Columns:\n",
    "1. Not needed for ML\n",
    "2. data leakage"
   ]
  },
  {
   "cell_type": "code",
   "execution_count": 11,
   "metadata": {
    "collapsed": false
   },
   "outputs": [],
   "source": [
    "## Drop columns that aren't useful for ML\n",
    "df = df.drop([\"PID\", \"Order\"], axis=1)\n",
    "\n",
    "## Drop columns that leak info about the final sale\n",
    "df = df.drop([\"Mo Sold\", \"Sale Condition\", \"Sale Type\", \"Yr Sold\"], axis=1)"
   ]
  },
  {
   "cell_type": "markdown",
   "metadata": {
    "collapsed": true
   },
   "source": [
    "Updating the transform_features() function to bring in all the feature engineering we have experimented with"
   ]
  },
  {
   "cell_type": "code",
   "execution_count": 12,
   "metadata": {
    "collapsed": false
   },
   "outputs": [
    {
     "data": {
      "text/plain": [
       "[57088.25161263909, 55275.36731241307]"
      ]
     },
     "execution_count": 12,
     "metadata": {},
     "output_type": "execute_result"
    }
   ],
   "source": [
    "def transform_features(df):\n",
    "    \n",
    "    null_count = df.isnull().sum()\n",
    "    null_cols = null_count[null_count>0].index\n",
    "    null_count = df[null_cols].isnull().sum()\n",
    "\n",
    "    # > 25% null values\n",
    "    drop_null_cols = null_count[null_count/len(df)*100 >=25].index\n",
    "    df.drop(drop_null_cols, axis='columns', inplace=True)\n",
    "\n",
    "    # < 25% null values\n",
    "\n",
    "    five_null_cols = null_count[null_count/len(df)*100 < 25].index\n",
    "    num_null_cols = df[five_null_cols].select_dtypes(include=['int', 'float']).columns\n",
    "\n",
    "    for col in num_null_cols:\n",
    "        df[col].fillna(df[col].mode()[0], inplace=True)\n",
    "\n",
    "    # < 25% null values where dtype is string\n",
    "\n",
    "    five_null_cols = null_count[null_count/len(df)*100 < 25].index\n",
    "    drop_null_cols = df[five_null_cols].select_dtypes(include=['object']).columns\n",
    "\n",
    "    df.drop(drop_null_cols, axis='columns', inplace=True)\n",
    "    \n",
    "    # new columns\n",
    "    yearsold = df['Yr Sold'] - df['Year Built']\n",
    "    yearsold[yearsold<0]\n",
    "    \n",
    "    years_since_remod = df['Yr Sold'] - df['Year Remod/Add']\n",
    "    years_since_remod[years_since_remod < 0]\n",
    "    \n",
    "    # adding columns\n",
    "    df['Years Before Sold'] = yearsold\n",
    "    df['Years Since Remod']= years_since_remod\n",
    "     \n",
    "    # dropping rows with -ve value\n",
    "    df.drop([2180, 1702, 2181], inplace=True)  \n",
    "    \n",
    "    ## Drop columns that aren't useful for ML\n",
    "    df = df.drop([\"PID\", \"Order\"], axis=1)\n",
    "\n",
    "    ## Drop columns that leak info about the final sale\n",
    "    df = df.drop([\"Mo Sold\", \"Sale Condition\", \"Sale Type\", \"Yr Sold\"], axis=1)\n",
    "    \n",
    "    return df\n",
    "\n",
    "def select_features(df):\n",
    "    return df[['Gr Liv Area', 'SalePrice']]\n",
    "\n",
    "def train_and_test(df):\n",
    "    \n",
    "    numeric_df = df.select_dtypes(include=['int', 'float'])\n",
    "    \n",
    "    train = numeric_df.iloc[:1460]\n",
    "    test = numeric_df.iloc[1460:]\n",
    "    \n",
    "    target = 'SalePrice'\n",
    "    features =  train.drop([target], axis='columns').columns\n",
    "    \n",
    "    lr = LinearRegression()\n",
    "    lr.fit(train[features], train[target])\n",
    "    labels = lr.predict(test[features])\n",
    "    \n",
    "    return mean_squared_error(labels, test[target])**0.5\n",
    "    \n",
    "data = pd.read_csv('AmesHousing.tsv', sep='\\t')\n",
    "transform_data = transform_features(data)\n",
    "filtered_data = select_features(transform_data)\n",
    "RMSE.append(train_and_test(filtered_data))\n",
    "RMSE\n",
    "\n"
   ]
  },
  {
   "cell_type": "markdown",
   "metadata": {},
   "source": [
    "Checking for Correlation of features with \"SalePrice\""
   ]
  },
  {
   "cell_type": "code",
   "execution_count": 13,
   "metadata": {
    "collapsed": false
   },
   "outputs": [
    {
     "data": {
      "text/plain": [
       "<matplotlib.axes._subplots.AxesSubplot at 0x7ff0ef011a20>"
      ]
     },
     "execution_count": 13,
     "metadata": {},
     "output_type": "execute_result"
    },
    {
     "data": {
      "image/png": "[encoded data removed]",
      "text/plain": [
       "<matplotlib.figure.Figure at 0x7ff0ef011198>"
      ]
     },
     "metadata": {},
     "output_type": "display_data"
    }
   ],
   "source": [
    "import seaborn as sns\n",
    "\n",
    "numeric_transform_data = transform_data.select_dtypes(include=['int', 'float'])\n",
    "\n",
    "sns.heatmap(numeric_transform_data.corr())"
   ]
  },
  {
   "cell_type": "code",
   "execution_count": 14,
   "metadata": {
    "collapsed": false
   },
   "outputs": [],
   "source": [
    "numeric_corr = numeric_transform_data.corr()['SalePrice'].abs().sort_values(ascending=False)\n",
    "numeric_corr[numeric_corr>0.4]\n",
    "\n",
    "# taking o.4 corr as cutoff. This is an artbitary value and showed\n",
    "# be expreimented with later\n",
    "drop_numeric_features = numeric_corr[numeric_corr<=0.4].index\n",
    "transform_data.drop(drop_numeric_features, axis='columns', inplace=True)"
   ]
  },
  {
   "cell_type": "code",
   "execution_count": 15,
   "metadata": {
    "collapsed": false
   },
   "outputs": [
    {
     "name": "stdout",
     "output_type": "stream",
     "text": [
      "Index(['Overall Qual', 'Year Built', 'Year Remod/Add', 'Mas Vnr Area',\n",
      "       'BsmtFin SF 1', 'Total Bsmt SF', '1st Flr SF', 'Gr Liv Area',\n",
      "       'Full Bath', 'TotRms AbvGrd', 'Fireplaces', 'Garage Yr Blt',\n",
      "       'Garage Cars', 'Garage Area', 'SalePrice', 'Years Before Sold',\n",
      "       'Years Since Remod'],\n",
      "      dtype='object')\n"
     ]
    },
    {
     "name": "stderr",
     "output_type": "stream",
     "text": [
      "/dataquest/system/env/python3/lib/python3.4/site-packages/ipykernel/__main__.py:59: SettingWithCopyWarning:\n",
      "\n",
      "\n",
      "A value is trying to be set on a copy of a slice from a DataFrame\n",
      "\n",
      "See the caveats in the documentation: http://pandas.pydata.org/pandas-docs/stable/indexing.html#indexing-view-versus-copy\n",
      "\n"
     ]
    }
   ],
   "source": [
    "def transform_features(df):\n",
    "    \n",
    "    null_count = df.isnull().sum()\n",
    "    null_cols = null_count[null_count>0].index\n",
    "    null_count = df[null_cols].isnull().sum()\n",
    "\n",
    "    # > 25% null values\n",
    "    drop_null_cols = null_count[null_count/len(df)*100 >=25].index\n",
    "    df.drop(drop_null_cols, axis='columns', inplace=True)\n",
    "\n",
    "    # < 25% null values\n",
    "\n",
    "    five_null_cols = null_count[null_count/len(df)*100 < 25].index\n",
    "    num_null_cols = df[five_null_cols].select_dtypes(include=['int', 'float']).columns\n",
    "\n",
    "    for col in num_null_cols:\n",
    "        df[col].fillna(df[col].mode()[0], inplace=True)\n",
    "\n",
    "    # < 25% null values where dtype is string\n",
    "\n",
    "    five_null_cols = null_count[null_count/len(df)*100 < 25].index\n",
    "    drop_null_cols = df[five_null_cols].select_dtypes(include=['object']).columns\n",
    "\n",
    "    df.drop(drop_null_cols, axis='columns', inplace=True)\n",
    "    \n",
    "    # new columns\n",
    "\n",
    "    \n",
    "    yearsold = df['Yr Sold'] - df['Year Built']\n",
    "    yearsold[yearsold<0].tolist\n",
    "    \n",
    "    years_since_remod = df['Yr Sold'] - df['Year Remod/Add']\n",
    "    years_since_remod[years_since_remod < 0]\n",
    "    \n",
    "    # adding columns\n",
    "    df['Years Before Sold'] = yearsold\n",
    "    df['Years Since Remod']= years_since_remod\n",
    "     \n",
    "    # dropping rows with -ve value\n",
    "    df.drop([2180, 1702, 2181], inplace=True)  \n",
    "    \n",
    "    ## Drop columns that aren't useful for ML\n",
    "    df = df.drop([\"PID\", \"Order\"], axis=1)\n",
    "\n",
    "    ## Drop columns that leak info about the final sale\n",
    "    df = df.drop([\"Mo Sold\", \"Sale Condition\", \"Sale Type\", \"Yr Sold\"], axis=1)\n",
    "    \n",
    "    return df\n",
    "\n",
    "def select_features(df, cutoff_coeff=0.4):\n",
    "    \n",
    "    numeric_transform_data = df.select_dtypes(include=['int', 'float'])\n",
    "    numeric_corr = numeric_transform_data.corr()['SalePrice'].abs().sort_values(ascending=False)\n",
    "    numeric_corr[numeric_corr>0.4]\n",
    "\n",
    "    # taking o.4 corr as cutoff. This is an artbitary value and showed\n",
    "    # be expreimented with later\n",
    "    drop_numeric_features = numeric_corr[numeric_corr<=cutoff_coeff].index\n",
    "    numeric_transform_data.drop(drop_numeric_features, axis='columns', inplace=True)\n",
    "    return numeric_transform_data\n",
    "\n",
    "def train_and_test(df):\n",
    "    \n",
    "    numeric_df = df.select_dtypes(include=['int', 'float'])\n",
    "    \n",
    "    train = numeric_df.iloc[:1460]\n",
    "    test = numeric_df.iloc[1460:]\n",
    "    \n",
    "    target = 'SalePrice'\n",
    "    features =  train.drop([target], axis='columns').columns\n",
    "    \n",
    "    lr = LinearRegression()\n",
    "    lr.fit(train[features], train[target])\n",
    "    labels = lr.predict(test[features])\n",
    "    \n",
    "    return mean_squared_error(labels, test[target])**0.5\n",
    "    \n",
    "data = pd.read_csv('AmesHousing.tsv', sep='\\t')\n",
    "transform_data = transform_features(data)\n",
    "filtered_data = select_features(transform_data)\n",
    "RMSE.append(train_and_test(filtered_data))\n",
    "RMSE\n",
    "\n",
    "print(filtered_data.columns)"
   ]
  },
  {
   "cell_type": "markdown",
   "metadata": {},
   "source": [
    "check for categorical features"
   ]
  },
  {
   "cell_type": "code",
   "execution_count": 16,
   "metadata": {
    "collapsed": false
   },
   "outputs": [
    {
     "name": "stdout",
     "output_type": "stream",
     "text": [
      "MS Zoning\n",
      "RL         2270\n",
      "RM          462\n",
      "FV          139\n",
      "RH           27\n",
      "C (all)      25\n",
      "I (all)       2\n",
      "A (agr)       2\n",
      "Name: MS Zoning, dtype: int64\n",
      "Street\n",
      "Pave    2915\n",
      "Grvl      12\n",
      "Name: Street, dtype: int64\n",
      "Lot Shape\n",
      "Reg    1859\n",
      "IR1     976\n",
      "IR2      76\n",
      "IR3      16\n",
      "Name: Lot Shape, dtype: int64\n",
      "Land Contour\n",
      "Lvl    2632\n",
      "HLS     120\n",
      "Bnk     115\n",
      "Low      60\n",
      "Name: Land Contour, dtype: int64\n",
      "Utilities\n",
      "AllPub    2924\n",
      "NoSewr       2\n",
      "NoSeWa       1\n",
      "Name: Utilities, dtype: int64\n",
      "Lot Config\n",
      "Inside     2138\n",
      "Corner      510\n",
      "CulDSac     180\n",
      "FR2          85\n",
      "FR3          14\n",
      "Name: Lot Config, dtype: int64\n",
      "Land Slope\n",
      "Gtl    2786\n",
      "Mod     125\n",
      "Sev      16\n",
      "Name: Land Slope, dtype: int64\n",
      "Neighborhood\n",
      "NAmes      443\n",
      "CollgCr    267\n",
      "OldTown    239\n",
      "Edwards    192\n",
      "Somerst    182\n",
      "Gilbert    165\n",
      "NridgHt    165\n",
      "Sawyer     151\n",
      "NWAmes     131\n",
      "SawyerW    125\n",
      "Mitchel    114\n",
      "BrkSide    108\n",
      "Crawfor    103\n",
      "IDOTRR      93\n",
      "Timber      72\n",
      "NoRidge     71\n",
      "StoneBr     51\n",
      "SWISU       48\n",
      "ClearCr     44\n",
      "MeadowV     37\n",
      "BrDale      30\n",
      "Blmngtn     28\n",
      "Veenker     24\n",
      "NPkVill     23\n",
      "Blueste     10\n",
      "Greens       8\n",
      "GrnHill      2\n",
      "Landmrk      1\n",
      "Name: Neighborhood, dtype: int64\n",
      "Condition 1\n",
      "Norm      2520\n",
      "Feedr      164\n",
      "Artery      92\n",
      "RRAn        50\n",
      "PosN        38\n",
      "RRAe        28\n",
      "PosA        20\n",
      "RRNn         9\n",
      "RRNe         6\n",
      "Name: Condition 1, dtype: int64\n",
      "Condition 2\n",
      "Norm      2898\n",
      "Feedr       13\n",
      "Artery       5\n",
      "PosA         4\n",
      "PosN         3\n",
      "RRNn         2\n",
      "RRAn         1\n",
      "RRAe         1\n",
      "Name: Condition 2, dtype: int64\n",
      "Bldg Type\n",
      "1Fam      2422\n",
      "TwnhsE     233\n",
      "Duplex     109\n",
      "Twnhs      101\n",
      "2fmCon      62\n",
      "Name: Bldg Type, dtype: int64\n",
      "House Style\n",
      "1Story    1480\n",
      "2Story     871\n",
      "1.5Fin     314\n",
      "SLvl       128\n",
      "SFoyer      83\n",
      "2.5Unf      24\n",
      "1.5Unf      19\n",
      "2.5Fin       8\n",
      "Name: House Style, dtype: int64\n",
      "Roof Style\n",
      "Gable      2320\n",
      "Hip         549\n",
      "Gambrel      22\n",
      "Flat         20\n",
      "Mansard      11\n",
      "Shed          5\n",
      "Name: Roof Style, dtype: int64\n",
      "Roof Matl\n",
      "CompShg    2884\n",
      "Tar&Grv      23\n",
      "WdShake       9\n",
      "WdShngl       7\n",
      "Membran       1\n",
      "Roll          1\n",
      "Metal         1\n",
      "ClyTile       1\n",
      "Name: Roof Matl, dtype: int64\n",
      "Exterior 1st\n",
      "VinylSd    1025\n",
      "MetalSd     450\n",
      "HdBoard     442\n",
      "Wd Sdng     420\n",
      "Plywood     221\n",
      "CemntBd     124\n",
      "BrkFace      88\n",
      "WdShing      56\n",
      "AsbShng      44\n",
      "Stucco       43\n",
      "BrkComm       6\n",
      "CBlock        2\n",
      "AsphShn       2\n",
      "Stone         2\n",
      "ImStucc       1\n",
      "PreCast       1\n",
      "Name: Exterior 1st, dtype: int64\n",
      "Exterior 2nd\n",
      "VinylSd    1014\n",
      "MetalSd     447\n",
      "HdBoard     406\n",
      "Wd Sdng     397\n",
      "Plywood     274\n",
      "CmentBd     124\n",
      "Wd Shng      81\n",
      "BrkFace      47\n",
      "Stucco       47\n",
      "AsbShng      38\n",
      "Brk Cmn      22\n",
      "ImStucc      15\n",
      "Stone         6\n",
      "AsphShn       4\n",
      "CBlock        3\n",
      "Other         1\n",
      "PreCast       1\n",
      "Name: Exterior 2nd, dtype: int64\n",
      "Exter Qual\n",
      "TA    1799\n",
      "Gd     988\n",
      "Ex     105\n",
      "Fa      35\n",
      "Name: Exter Qual, dtype: int64\n",
      "Exter Cond\n",
      "TA    2546\n",
      "Gd     299\n",
      "Fa      67\n",
      "Ex      12\n",
      "Po       3\n",
      "Name: Exter Cond, dtype: int64\n",
      "Foundation\n",
      "PConc     1307\n",
      "CBlock    1244\n",
      "BrkTil     311\n",
      "Slab        49\n",
      "Stone       11\n",
      "Wood         5\n",
      "Name: Foundation, dtype: int64\n",
      "Heating\n",
      "GasA     2882\n",
      "GasW       27\n",
      "Grav        9\n",
      "Wall        6\n",
      "OthW        2\n",
      "Floor       1\n",
      "Name: Heating, dtype: int64\n",
      "Heating QC\n",
      "Ex    1492\n",
      "TA     864\n",
      "Gd     476\n",
      "Fa      92\n",
      "Po       3\n",
      "Name: Heating QC, dtype: int64\n",
      "Central Air\n",
      "Y    2731\n",
      "N     196\n",
      "Name: Central Air, dtype: int64\n",
      "Kitchen Qual\n",
      "TA    1494\n",
      "Gd    1159\n",
      "Ex     203\n",
      "Fa      70\n",
      "Po       1\n",
      "Name: Kitchen Qual, dtype: int64\n",
      "Functional\n",
      "Typ     2725\n",
      "Min2      70\n",
      "Min1      65\n",
      "Mod       35\n",
      "Maj1      19\n",
      "Maj2       9\n",
      "Sal        2\n",
      "Sev        2\n",
      "Name: Functional, dtype: int64\n",
      "Paved Drive\n",
      "Y    2649\n",
      "N     216\n",
      "P      62\n",
      "Name: Paved Drive, dtype: int64\n"
     ]
    }
   ],
   "source": [
    "non_numeric = transform_data.select_dtypes(include\n",
    "                                           =['object'])\n",
    "for col in non_numeric.columns:\n",
    "    print(col)\n",
    "    print(non_numeric[col].value_counts())"
   ]
  },
  {
   "cell_type": "markdown",
   "metadata": {},
   "source": [
    "Which categorical columns should we keep?"
   ]
  },
  {
   "cell_type": "code",
   "execution_count": 17,
   "metadata": {
    "collapsed": false
   },
   "outputs": [
    {
     "data": {
      "text/plain": [
       "Index(['MS Zoning', 'Street', 'Lot Shape', 'Land Contour', 'Utilities',\n",
       "       'Lot Config', 'Land Slope', 'Neighborhood', 'Condition 1',\n",
       "       'Condition 2', 'Bldg Type', 'House Style', 'Roof Style', 'Roof Matl',\n",
       "       'Exterior 1st', 'Exterior 2nd', 'Exter Qual', 'Exter Cond',\n",
       "       'Foundation', 'Heating', 'Heating QC', 'Central Air', 'Kitchen Qual',\n",
       "       'Functional', 'Paved Drive'],\n",
       "      dtype='object')"
      ]
     },
     "execution_count": 17,
     "metadata": {},
     "output_type": "execute_result"
    }
   ],
   "source": [
    "non_numeric.columns"
   ]
  },
  {
   "cell_type": "code",
   "execution_count": 18,
   "metadata": {
    "collapsed": false
   },
   "outputs": [
    {
     "data": {
      "text/plain": [
       "['MS SubClass',\n",
       " 'MS Zoning',\n",
       " 'Street',\n",
       " 'Land Contour',\n",
       " 'Lot Config',\n",
       " 'Neighborhood',\n",
       " 'Condition 1',\n",
       " 'Condition 2',\n",
       " 'Bldg Type',\n",
       " 'House Style',\n",
       " 'Roof Style',\n",
       " 'Roof Matl',\n",
       " 'Exterior 1st',\n",
       " 'Exterior 2nd',\n",
       " 'Foundation',\n",
       " 'Heating',\n",
       " 'Central Air']"
      ]
     },
     "execution_count": 18,
     "metadata": {},
     "output_type": "execute_result"
    }
   ],
   "source": [
    "cat_cols = ['MS Zoning', 'Street', 'Lot Shape', 'Land Contour', 'Utilities',\n",
    "       'Lot Config', 'Land Slope', 'Neighborhood', 'Condition 1',\n",
    "       'Condition 2', 'Bldg Type', 'House Style', 'Roof Style', 'Roof Matl',\n",
    "       'Exterior 1st', 'Exterior 2nd', 'Exter Qual', 'Exter Cond',\n",
    "       'Foundation', 'Heating', 'Heating QC', 'Central Air', 'Kitchen Qual',\n",
    "       'Functional', 'Paved Drive']\n",
    "\n",
    "['MS SubClass',\n",
    " 'MS Zoning',\n",
    " 'Street',\n",
    " 'Land Contour',\n",
    " 'Lot Config',\n",
    " 'Neighborhood',\n",
    " 'Condition 1',\n",
    " 'Condition 2',\n",
    " 'Bldg Type',\n",
    " 'House Style',\n",
    " 'Roof Style',\n",
    " 'Roof Matl',\n",
    " 'Exterior 1st',\n",
    " 'Exterior 2nd',\n",
    " 'Foundation',\n",
    " 'Heating',\n",
    " 'Central Air']"
   ]
  },
  {
   "cell_type": "code",
   "execution_count": 19,
   "metadata": {
    "collapsed": true
   },
   "outputs": [],
   "source": [
    "## Create a list of column names from documentation that are *meant* to be categorical\n",
    "nominal_features = [\"PID\", \"MS SubClass\", \"MS Zoning\", \"Street\", \"Alley\", \"Land Contour\", \"Lot Config\", \"Neighborhood\", \n",
    "                    \"Condition 1\", \"Condition 2\", \"Bldg Type\", \"House Style\", \"Roof Style\", \"Roof Matl\", \"Exterior 1st\", \n",
    "                    \"Exterior 2nd\", \"Mas Vnr Type\", \"Foundation\", \"Heating\", \"Central Air\", \"Garage Type\", \n",
    "                    \"Misc Feature\", \"Sale Type\", \"Sale Condition\"]"
   ]
  },
  {
   "cell_type": "code",
   "execution_count": 20,
   "metadata": {
    "collapsed": false
   },
   "outputs": [],
   "source": [
    "## Which categorical columns have we still carried with us? We'll test tehse \n",
    "transform_cat_cols = []\n",
    "for col in nominal_features:\n",
    "    if col in transform_data.columns:\n",
    "        transform_cat_cols.append(col)\n",
    "        \n",
    "## How many unique values in each categorical column?\n",
    "uniqueness_counts = transform_data[transform_cat_cols].apply(lambda col: len(col.value_counts())).sort_values()\n",
    "## Aribtrary cutoff of 10 unique values (worth experimenting)\n",
    "drop_nonuniq_cols = uniqueness_counts[uniqueness_counts > 10].index\n",
    "transform_data = transform_data.drop(drop_nonuniq_cols, axis=1)"
   ]
  },
  {
   "cell_type": "code",
   "execution_count": 21,
   "metadata": {
    "collapsed": false
   },
   "outputs": [],
   "source": [
    "## Select just the remaining text columns and convert to categorical\n",
    "text_cols = transform_data.select_dtypes(include=['object'])\n",
    "for col in text_cols:\n",
    "    transform_data[col] = transform_data[col].astype('category')\n",
    "    \n",
    "## Create dummy columns and add back to the dataframe!\n",
    "transform_data = pd.concat([\n",
    "    transform_data, \n",
    "    pd.get_dummies(transform_data.select_dtypes(include=['category']))\n",
    "], axis=1).drop(text_cols,axis=1)"
   ]
  },
  {
   "cell_type": "markdown",
   "metadata": {},
   "source": [
    "Update selected_features()"
   ]
  },
  {
   "cell_type": "code",
   "execution_count": 22,
   "metadata": {
    "collapsed": false
   },
   "outputs": [
    {
     "data": {
      "text/plain": [
       "[57088.25161263909, 55275.36731241307, 36565.85938231896, 36571.09404570377]"
      ]
     },
     "execution_count": 22,
     "metadata": {},
     "output_type": "execute_result"
    }
   ],
   "source": [
    "def transform_features(df):\n",
    "    \n",
    "    null_count = df.isnull().sum()\n",
    "    null_cols = null_count[null_count>0].index\n",
    "    null_count = df[null_cols].isnull().sum()\n",
    "\n",
    "    # > 25% null values\n",
    "    drop_null_cols = null_count[null_count/len(df)*100 >=25].index\n",
    "    df.drop(drop_null_cols, axis='columns', inplace=True)\n",
    "\n",
    "    # < 25% null values\n",
    "\n",
    "    five_null_cols = null_count[null_count/len(df)*100 < 25].index\n",
    "    num_null_cols = df[five_null_cols].select_dtypes(include=['int', 'float']).columns\n",
    "\n",
    "    for col in num_null_cols:\n",
    "        df[col].fillna(df[col].mode()[0], inplace=True)\n",
    "\n",
    "    # < 25% null values where dtype is string\n",
    "\n",
    "    five_null_cols = null_count[null_count/len(df)*100 < 25].index\n",
    "    drop_null_cols = df[five_null_cols].select_dtypes(include=['object']).columns\n",
    "\n",
    "    df.drop(drop_null_cols, axis='columns', inplace=True)\n",
    "    \n",
    "    # new columns\n",
    "    yearsold = df['Yr Sold'] - df['Year Built']\n",
    "    yearsold[yearsold<0]\n",
    "    \n",
    "    years_since_remod = df['Yr Sold'] - df['Year Remod/Add']\n",
    "    years_since_remod[years_since_remod < 0]\n",
    "    \n",
    "    # adding columns\n",
    "    df['Years Before Sold'] = yearsold\n",
    "    df['Years Since Remod']= years_since_remod\n",
    "     \n",
    "    # dropping rows with -ve value\n",
    "    df.drop([2180, 1702, 2181], inplace=True)  \n",
    "    \n",
    "    df = df.drop([\"Year Built\", \"Year Remod/Add\"], axis=1)\n",
    "    \n",
    "    ## Drop columns that aren't useful for ML\n",
    "    df = df.drop([\"PID\", \"Order\"], axis=1)\n",
    "    \n",
    "    ## Drop columns that leak info about the final sale\n",
    "    df = df.drop([\"Mo Sold\", \"Sale Condition\", \"Sale Type\", \"Yr Sold\"], axis=1)\n",
    "    \n",
    "    return df\n",
    "\n",
    "def select_features(df, nominal_features, cutoff_coeff=0.4, cutoff_uniqueness=10):\n",
    "    \n",
    "    numeric_transform_data = df.select_dtypes(include=['int', 'float'])\n",
    "    numeric_corr = numeric_transform_data.corr()['SalePrice'].abs().sort_values(ascending=False)\n",
    "    numeric_corr[numeric_corr>cutoff_coeff]\n",
    "\n",
    "    # taking o.4 corr as cutoff. This is an artbitary value and showed\n",
    "    # be expreimented with later\n",
    "    drop_numeric_features = numeric_corr[numeric_corr<=cutoff_coeff].index\n",
    "    df.drop(drop_numeric_features, axis='columns', inplace=True)\n",
    "    \n",
    "    ## Which categorical columns have we still carried with us? We'll test tehse \n",
    "    transform_cat_cols = []\n",
    "    for col in nominal_features:\n",
    "        if col in df.columns:\n",
    "            transform_cat_cols.append(col)\n",
    "\n",
    "    ## How many unique values in each categorical column?\n",
    "    uniqueness_counts = df[transform_cat_cols].apply(lambda col: len(col.value_counts())).sort_values()\n",
    "    ## Aribtrary cutoff of 10 unique values (worth experimenting)\n",
    "    drop_nonuniq_cols = uniqueness_counts[uniqueness_counts > cutoff_uniqueness].index\n",
    "    df.drop(drop_nonuniq_cols, axis='columns', inplace=True)\n",
    "\n",
    "    ## Select just the remaining text columns and convert to categorical\n",
    "    text_cols = df.select_dtypes(include=['object'])\n",
    "    for col in text_cols:\n",
    "        df[col] = df[col].astype('category')\n",
    "\n",
    "    ## Create dummy columns and add back to the dataframe!\n",
    "    df = pd.concat([\n",
    "        df, \n",
    "        pd.get_dummies(df.select_dtypes(include=['category']))\n",
    "    ], axis='columns')\n",
    "    \n",
    "    df.drop(text_cols,axis='columns', inplace=True)\n",
    "    \n",
    "    return df\n",
    "\n",
    "def train_and_test(df):\n",
    "    \n",
    "    numeric_df = df.select_dtypes(include=['int', 'float'])\n",
    "    \n",
    "    train = numeric_df.iloc[:1460]\n",
    "    test = numeric_df.iloc[1460:]\n",
    "    \n",
    "    target = 'SalePrice'\n",
    "    features =  train.drop([target], axis='columns').columns\n",
    "    \n",
    "    lr = LinearRegression()\n",
    "    lr.fit(train[features], train[target])\n",
    "    labels = lr.predict(test[features])\n",
    "    \n",
    "    return mean_squared_error(labels, test[target])**0.5\n",
    "    \n",
    "data = pd.read_csv('AmesHousing.tsv', sep='\\t')\n",
    "transform_data = transform_features(data)\n",
    "filtered_data = select_features(transform_data, nominal_features)\n",
    "RMSE.append(train_and_test(filtered_data))\n",
    "RMSE\n"
   ]
  },
  {
   "cell_type": "code",
   "execution_count": 23,
   "metadata": {
    "collapsed": false
   },
   "outputs": [
    {
     "name": "stdout",
     "output_type": "stream",
     "text": [
      "[36729.813612361424, 25681.119883529667, 25549.63390812131, 28487.27798315643]\n"
     ]
    },
    {
     "data": {
      "text/plain": [
       "29111.961346792206"
      ]
     },
     "execution_count": 23,
     "metadata": {},
     "output_type": "execute_result"
    }
   ],
   "source": [
    "def transform_features(df):\n",
    "    \n",
    "    null_count = df.isnull().sum()\n",
    "    null_cols = null_count[null_count>0].index\n",
    "    null_count = df[null_cols].isnull().sum()\n",
    "\n",
    "    # > 25% null values\n",
    "    drop_null_cols = null_count[null_count/len(df)*100 >=25].index\n",
    "    df.drop(drop_null_cols, axis='columns', inplace=True)\n",
    "\n",
    "    # < 25% null values\n",
    "\n",
    "    five_null_cols = null_count[null_count/len(df)*100 < 25].index\n",
    "    num_null_cols = df[five_null_cols].select_dtypes(include=['int', 'float']).columns\n",
    "\n",
    "    for col in num_null_cols:\n",
    "        df[col].fillna(df[col].mode()[0], inplace=True)\n",
    "\n",
    "    # < 25% null values where dtype is string\n",
    "\n",
    "    five_null_cols = null_count[null_count/len(df)*100 < 25].index\n",
    "    drop_null_cols = df[five_null_cols].select_dtypes(include=['object']).columns\n",
    "\n",
    "    df.drop(drop_null_cols, axis='columns', inplace=True)\n",
    "    \n",
    "    # new columns\n",
    "    yearsold = df['Yr Sold'] - df['Year Built']\n",
    "    yearsold[yearsold<0]\n",
    "    \n",
    "    years_since_remod = df['Yr Sold'] - df['Year Remod/Add']\n",
    "    years_since_remod[years_since_remod < 0]\n",
    "    \n",
    "    # adding columns\n",
    "    df['Years Before Sold'] = yearsold\n",
    "    df['Years Since Remod']= years_since_remod\n",
    "     \n",
    "    # dropping rows with -ve value\n",
    "    df.drop([2180, 1702, 2181], inplace=True)  \n",
    "    df = df.drop([\"Year Built\", \"Year Remod/Add\"], axis=1)\n",
    "    \n",
    "    ## Drop columns that aren't useful for ML\n",
    "    df = df.drop([\"PID\", \"Order\"], axis=1)\n",
    "\n",
    "    ## Drop columns that leak info about the final sale\n",
    "    df = df.drop([\"Mo Sold\", \"Sale Condition\", \"Sale Type\", \"Yr Sold\"], axis=1)\n",
    "    \n",
    "    return df\n",
    "\n",
    "def select_features(df, nominal_features, cutoff_coeff=0.4, cutoff_uniqueness=10):\n",
    "    \n",
    "    numeric_transform_data = df.select_dtypes(include=['int', 'float'])\n",
    "    numeric_corr = numeric_transform_data.corr()['SalePrice'].abs().sort_values(ascending=False)\n",
    "    numeric_corr[numeric_corr>cutoff_coeff]\n",
    "\n",
    "    # taking o.4 corr as cutoff. This is an artbitary value and showed\n",
    "    # be expreimented with later\n",
    "    drop_numeric_features = numeric_corr[numeric_corr<=cutoff_coeff].index\n",
    "    df.drop(drop_numeric_features, axis='columns', inplace=True)\n",
    "    \n",
    "    ## Which categorical columns have we still carried with us? We'll test tehse \n",
    "    transform_cat_cols = []\n",
    "    for col in nominal_features:\n",
    "        if col in df.columns:\n",
    "            transform_cat_cols.append(col)\n",
    "\n",
    "    ## How many unique values in each categorical column?\n",
    "    uniqueness_counts = df[transform_cat_cols].apply(lambda col: len(col.value_counts())).sort_values()\n",
    "    ## Aribtrary cutoff of 10 unique values (worth experimenting)\n",
    "    drop_nonuniq_cols = uniqueness_counts[uniqueness_counts > cutoff_uniqueness].index\n",
    "    df.drop(drop_nonuniq_cols, axis='columns', inplace=True)\n",
    "\n",
    "    ## Select just the remaining text columns and convert to categorical\n",
    "    text_cols = df.select_dtypes(include=['object'])\n",
    "    for col in text_cols:\n",
    "        df[col] = df[col].astype('category')\n",
    "\n",
    "    ## Create dummy columns and add back to the dataframe!\n",
    "    df = pd.concat([\n",
    "        df, \n",
    "        pd.get_dummies(df.select_dtypes(include=['category']))\n",
    "    ], axis='columns')\n",
    "    \n",
    "    df.drop(text_cols,axis='columns', inplace=True)\n",
    "    \n",
    "    return df\n",
    "\n",
    "def train_and_test(df, k=0):\n",
    "    \n",
    "    numeric_df = df.select_dtypes(include=['int', 'float'])\n",
    "    lr = LinearRegression()\n",
    "    \n",
    "    target = 'SalePrice'\n",
    "    features =  df.drop([target], axis='columns').columns\n",
    "    \n",
    "    np.random.seed(1)\n",
    "    \n",
    "    if k == 0:\n",
    "        train = numeric_df.iloc[:1460]\n",
    "        test = numeric_df.iloc[1460:]\n",
    "\n",
    "        lr.fit(train[features], train[target])\n",
    "        labels = lr.predict(test[features])\n",
    "\n",
    "        return mean_squared_error(labels, test[target])**0.5\n",
    "    \n",
    "    if k == 1:\n",
    "        \n",
    "        numeric_df = numeric_df.iloc[np.random.permutation(numeric_df.index)]\n",
    "        fold_one = numeric_df.iloc[:1460]\n",
    "        fold_two = numeric_df.iloc[1460:]\n",
    "\n",
    "        train = fold_one\n",
    "        test = fold_two\n",
    "        \n",
    "        lr.fit(train[features], train[target])\n",
    "        labels = lr.predict(test[features])\n",
    "    \n",
    "        rmse_one = mean_squared_error(labels, test[target])**0.5\n",
    "        \n",
    "        train = fold_two\n",
    "        test = fold_one\n",
    "        \n",
    "        lr = LinearRegression()\n",
    "        lr.fit(train[features], train[target])\n",
    "        labels = lr.predict(test[features])\n",
    "    \n",
    "        rmse_two = mean_squared_error(labels, test[target])**0.5\n",
    "        print(rmse_one)\n",
    "        print(rmse_two)\n",
    "        \n",
    "        return np.avg([rmse_one, rmse_two])\n",
    "    \n",
    "    if k > 1:\n",
    "        \n",
    "        kf = KFold(n_splits=k, shuffle=True)\n",
    "        rmse_values = []\n",
    "        for train_index, test_index, in kf.split(df):\n",
    "            train = df.iloc[train_index]\n",
    "            test = df.iloc[test_index]\n",
    "            lr.fit(train[features], train[target])\n",
    "            predictions = lr.predict(test[features])\n",
    "            mse = mean_squared_error(test[target], predictions)\n",
    "            rmse = np.sqrt(mse)\n",
    "            rmse_values.append(rmse)\n",
    "\n",
    "        print(rmse_values)\n",
    "        return np.mean(rmse_values)\n",
    "            \n",
    "    \n",
    "data = pd.read_csv('AmesHousing.tsv', sep='\\t')\n",
    "transform_data = transform_features(data)\n",
    "filtered_data = select_features(transform_data, nominal_features)\n",
    "RMSE = train_and_test(filtered_data,k=4)\n",
    "RMSE\n"
   ]
  },
  {
   "cell_type": "code",
   "execution_count": 24,
   "metadata": {
    "collapsed": false
   },
   "outputs": [
    {
     "name": "stdout",
     "output_type": "stream",
     "text": [
      "[28200.00624060384, 29482.412334079603, 25579.21629699266, 24875.77815570782, 23031.663371745464, 48061.09578022281, 26898.105127296327, 30109.04783543803, 23476.688995984405, 24823.893345773537]\n"
     ]
    },
    {
     "data": {
      "text/plain": [
       "28453.79074838445"
      ]
     },
     "execution_count": 24,
     "metadata": {},
     "output_type": "execute_result"
    }
   ],
   "source": [
    "def transform_features(df):\n",
    "    num_missing = df.isnull().sum()\n",
    "    drop_missing_cols = num_missing[(num_missing > len(df)/20)].sort_values()\n",
    "    df = df.drop(drop_missing_cols.index, axis=1)\n",
    "    \n",
    "    text_mv_counts = df.select_dtypes(include=['object']).isnull().sum().sort_values(ascending=False)\n",
    "    drop_missing_cols_2 = text_mv_counts[text_mv_counts > 0]\n",
    "    df = df.drop(drop_missing_cols_2.index, axis=1)\n",
    "    \n",
    "    num_missing = df.select_dtypes(include=['int', 'float']).isnull().sum()\n",
    "    fixable_numeric_cols = num_missing[(num_missing < len(df)/20) & (num_missing > 0)].sort_values()\n",
    "    replacement_values_dict = df[fixable_numeric_cols.index].mode().to_dict(orient='records')[0]\n",
    "    df = df.fillna(replacement_values_dict)\n",
    "    \n",
    "    years_sold = df['Yr Sold'] - df['Year Built']\n",
    "    years_since_remod = df['Yr Sold'] - df['Year Remod/Add']\n",
    "    df['Years Before Sale'] = years_sold\n",
    "    df['Years Since Remod'] = years_since_remod\n",
    "    df = df.drop([1702, 2180, 2181], axis=0)\n",
    "\n",
    "    df = df.drop([\"PID\", \"Order\", \"Mo Sold\", \"Sale Condition\", \"Sale Type\", \"Year Built\", \"Year Remod/Add\"], axis=1)\n",
    "    return df\n",
    "\n",
    "def select_features(df, coeff_threshold=0.4, uniq_threshold=10):\n",
    "    numerical_df = df.select_dtypes(include=['int', 'float'])\n",
    "    abs_corr_coeffs = numerical_df.corr()['SalePrice'].abs().sort_values()\n",
    "    df = df.drop(abs_corr_coeffs[abs_corr_coeffs < coeff_threshold].index, axis=1)\n",
    "    \n",
    "    nominal_features = [\"PID\", \"MS SubClass\", \"MS Zoning\", \"Street\", \"Alley\", \"Land Contour\", \"Lot Config\", \"Neighborhood\", \n",
    "                    \"Condition 1\", \"Condition 2\", \"Bldg Type\", \"House Style\", \"Roof Style\", \"Roof Matl\", \"Exterior 1st\", \n",
    "                    \"Exterior 2nd\", \"Mas Vnr Type\", \"Foundation\", \"Heating\", \"Central Air\", \"Garage Type\", \n",
    "                    \"Misc Feature\", \"Sale Type\", \"Sale Condition\"]\n",
    "    \n",
    "    transform_cat_cols = []\n",
    "    for col in nominal_features:\n",
    "        if col in df.columns:\n",
    "            transform_cat_cols.append(col)\n",
    "\n",
    "    uniqueness_counts = df[transform_cat_cols].apply(lambda col: len(col.value_counts())).sort_values()\n",
    "    drop_nonuniq_cols = uniqueness_counts[uniqueness_counts > 10].index\n",
    "    df = df.drop(drop_nonuniq_cols, axis=1)\n",
    "    \n",
    "    text_cols = df.select_dtypes(include=['object'])\n",
    "    for col in text_cols:\n",
    "        df[col] = df[col].astype('category')\n",
    "    df = pd.concat([df, pd.get_dummies(df.select_dtypes(include=['category']))], axis=1).drop(text_cols,axis=1)\n",
    "    \n",
    "    return df\n",
    "\n",
    "def train_and_test(df, k=0):\n",
    "    numeric_df = df.select_dtypes(include=['integer', 'float'])\n",
    "    features = numeric_df.columns.drop(\"SalePrice\")\n",
    "    lr = LinearRegression()\n",
    "    \n",
    "    if k == 0:\n",
    "        train = df[:1460]\n",
    "        test = df[1460:]\n",
    "\n",
    "        lr.fit(train[features], train[\"SalePrice\"])\n",
    "        predictions = lr.predict(test[features])\n",
    "        mse = mean_squared_error(test[\"SalePrice\"], predictions)\n",
    "        rmse = np.sqrt(mse)\n",
    "\n",
    "        return rmse\n",
    "    \n",
    "    if k == 1:\n",
    "        # Randomize *all* rows (frac=1) from `df` and return\n",
    "        shuffled_df = df.sample(frac=1, )\n",
    "        train = df[:1460]\n",
    "        test = df[1460:]\n",
    "        \n",
    "        lr.fit(train[features], train[\"SalePrice\"])\n",
    "        predictions_one = lr.predict(test[features])        \n",
    "        \n",
    "        mse_one = mean_squared_error(test[\"SalePrice\"], predictions_one)\n",
    "        rmse_one = np.sqrt(mse_one)\n",
    "        \n",
    "        lr.fit(test[features], test[\"SalePrice\"])\n",
    "        predictions_two = lr.predict(train[features])        \n",
    "       \n",
    "        mse_two = mean_squared_error(train[\"SalePrice\"], predictions_two)\n",
    "        rmse_two = np.sqrt(mse_two)\n",
    "        \n",
    "        avg_rmse = np.mean([rmse_one, rmse_two])\n",
    "        print(rmse_one)\n",
    "        print(rmse_two)\n",
    "        return avg_rmse\n",
    "    else:\n",
    "        kf = KFold(n_splits=k, shuffle=True)\n",
    "        rmse_values = []\n",
    "        for train_index, test_index, in kf.split(df):\n",
    "            train = df.iloc[train_index]\n",
    "            test = df.iloc[test_index]\n",
    "            lr.fit(train[features], train[\"SalePrice\"])\n",
    "            predictions = lr.predict(test[features])\n",
    "            mse = mean_squared_error(test[\"SalePrice\"], predictions)\n",
    "            rmse = np.sqrt(mse)\n",
    "            rmse_values.append(rmse)\n",
    "        print(rmse_values)\n",
    "        avg_rmse = np.mean(rmse_values)\n",
    "        return avg_rmse\n",
    "\n",
    "df = pd.read_csv(\"AmesHousing.tsv\", delimiter=\"\\t\")\n",
    "transform_df = transform_features(df)\n",
    "filtered_df = select_features(transform_df)\n",
    "rmse = train_and_test(filtered_df, k=10)\n",
    "\n",
    "rmse"
   ]
  },
  {
   "cell_type": "code",
   "execution_count": null,
   "metadata": {
    "collapsed": true
   },
   "outputs": [],
   "source": []
  },
  {
   "cell_type": "code",
   "execution_count": 30,
   "metadata": {
    "collapsed": false
   },
   "outputs": [
    {
     "ename": "KeyError",
     "evalue": "\"Index(['Order', 'PID', 'MS SubClass', 'MS Zoning', 'Lot Frontage', 'Lot Area',\\n       'Street', 'Alley', 'Lot Shape', 'Land Contour', 'Utilities',\\n       'Lot Config', 'Land Slope', 'Neighborhood', 'Condition 1',\\n       'Condition 2', 'Bldg Type', 'House Style', 'Overall Cond', 'Year Built',\\n       'Year Remod/Add', 'Roof Style', 'Roof Matl', 'Exterior 1st',\\n       'Exterior 2nd', 'Mas Vnr Type', 'Exter Qual', 'Exter Cond',\\n       'Foundation', 'Bsmt Qual', 'Bsmt Cond', 'Bsmt Exposure',\\n       'BsmtFin Type 1', 'BsmtFin Type 2', 'BsmtFin SF 2', 'Bsmt Unf SF',\\n       'Heating', 'Heating QC', 'Central Air', 'Electrical', '2nd Flr SF',\\n       'Low Qual Fin SF', 'Bsmt Full Bath', 'Bsmt Half Bath', 'Half Bath',\\n       'Bedroom AbvGr', 'Kitchen AbvGr', 'Kitchen Qual', 'Functional',\\n       'Fireplace Qu', 'Garage Type', 'Garage Yr Blt', 'Garage Finish',\\n       'Garage Qual', 'Garage Cond', 'Paved Drive', 'Wood Deck SF',\\n       'Open Porch SF', 'Enclosed Porch', '3Ssn Porch', 'Screen Porch',\\n       'Pool Area', 'Pool QC', 'Fence', 'Misc Feature', 'Misc Val', 'Mo Sold',\\n       'Yr Sold', 'Sale Type', 'Sale Condition'],\\n      dtype='object') not in index\"",
     "output_type": "error",
     "traceback": [
      "\u001b[1;31m\u001b[0m",
      "\u001b[1;31mKeyError\u001b[0mTraceback (most recent call last)",
      "\u001b[1;32m<ipython-input-30-4a1b823abd1d>\u001b[0m in \u001b[0;36m<module>\u001b[1;34m()\u001b[0m\n\u001b[0;32m      9\u001b[0m \u001b[0mtrain\u001b[0m \u001b[1;33m=\u001b[0m \u001b[0mfiltered_df\u001b[0m\u001b[1;33m.\u001b[0m\u001b[0miloc\u001b[0m\u001b[1;33m[\u001b[0m\u001b[1;33m:\u001b[0m\u001b[1;36m1460\u001b[0m\u001b[1;33m]\u001b[0m\u001b[1;33m\u001b[0m\u001b[0m\n\u001b[0;32m     10\u001b[0m \u001b[0mrfe\u001b[0m \u001b[1;33m=\u001b[0m \u001b[0mRFE\u001b[0m\u001b[1;33m(\u001b[0m\u001b[0mlr\u001b[0m\u001b[1;33m,\u001b[0m \u001b[1;36m3\u001b[0m\u001b[1;33m)\u001b[0m\u001b[1;33m\u001b[0m\u001b[0m\n\u001b[1;32m---> 11\u001b[1;33m \u001b[0mfit\u001b[0m \u001b[1;33m=\u001b[0m \u001b[0mrfe\u001b[0m\u001b[1;33m.\u001b[0m\u001b[0mfit\u001b[0m\u001b[1;33m(\u001b[0m\u001b[0mtrain\u001b[0m\u001b[1;33m[\u001b[0m\u001b[0mfeatures\u001b[0m\u001b[1;33m]\u001b[0m\u001b[1;33m,\u001b[0m \u001b[0mtrain\u001b[0m\u001b[1;33m[\u001b[0m\u001b[0mtarget\u001b[0m\u001b[1;33m]\u001b[0m\u001b[1;33m)\u001b[0m\u001b[1;33m\u001b[0m\u001b[0m\n\u001b[0m\u001b[0;32m     12\u001b[0m \u001b[1;33m\u001b[0m\u001b[0m\n\u001b[0;32m     13\u001b[0m \u001b[0mprint\u001b[0m\u001b[1;33m(\u001b[0m\u001b[1;34m\"Num Features: %d\"\u001b[0m \u001b[1;33m%\u001b[0m \u001b[0mfit\u001b[0m\u001b[1;33m.\u001b[0m\u001b[0mn_features_\u001b[0m\u001b[1;33m)\u001b[0m\u001b[1;33m\u001b[0m\u001b[0m\n",
      "\u001b[1;32m/dataquest/system/env/python3/lib/python3.4/site-packages/pandas/core/frame.py\u001b[0m in \u001b[0;36m__getitem__\u001b[1;34m(self, key)\u001b[0m\n\u001b[0;32m   2131\u001b[0m         \u001b[1;32mif\u001b[0m \u001b[0misinstance\u001b[0m\u001b[1;33m(\u001b[0m\u001b[0mkey\u001b[0m\u001b[1;33m,\u001b[0m \u001b[1;33m(\u001b[0m\u001b[0mSeries\u001b[0m\u001b[1;33m,\u001b[0m \u001b[0mnp\u001b[0m\u001b[1;33m.\u001b[0m\u001b[0mndarray\u001b[0m\u001b[1;33m,\u001b[0m \u001b[0mIndex\u001b[0m\u001b[1;33m,\u001b[0m \u001b[0mlist\u001b[0m\u001b[1;33m)\u001b[0m\u001b[1;33m)\u001b[0m\u001b[1;33m:\u001b[0m\u001b[1;33m\u001b[0m\u001b[0m\n\u001b[0;32m   2132\u001b[0m             \u001b[1;31m# either boolean or fancy integer index\u001b[0m\u001b[1;33m\u001b[0m\u001b[1;33m\u001b[0m\u001b[0m\n\u001b[1;32m-> 2133\u001b[1;33m             \u001b[1;32mreturn\u001b[0m \u001b[0mself\u001b[0m\u001b[1;33m.\u001b[0m\u001b[0m_getitem_array\u001b[0m\u001b[1;33m(\u001b[0m\u001b[0mkey\u001b[0m\u001b[1;33m)\u001b[0m\u001b[1;33m\u001b[0m\u001b[0m\n\u001b[0m\u001b[0;32m   2134\u001b[0m         \u001b[1;32melif\u001b[0m \u001b[0misinstance\u001b[0m\u001b[1;33m(\u001b[0m\u001b[0mkey\u001b[0m\u001b[1;33m,\u001b[0m \u001b[0mDataFrame\u001b[0m\u001b[1;33m)\u001b[0m\u001b[1;33m:\u001b[0m\u001b[1;33m\u001b[0m\u001b[0m\n\u001b[0;32m   2135\u001b[0m             \u001b[1;32mreturn\u001b[0m \u001b[0mself\u001b[0m\u001b[1;33m.\u001b[0m\u001b[0m_getitem_frame\u001b[0m\u001b[1;33m(\u001b[0m\u001b[0mkey\u001b[0m\u001b[1;33m)\u001b[0m\u001b[1;33m\u001b[0m\u001b[0m\n",
      "\u001b[1;32m/dataquest/system/env/python3/lib/python3.4/site-packages/pandas/core/frame.py\u001b[0m in \u001b[0;36m_getitem_array\u001b[1;34m(self, key)\u001b[0m\n\u001b[0;32m   2175\u001b[0m             \u001b[1;32mreturn\u001b[0m \u001b[0mself\u001b[0m\u001b[1;33m.\u001b[0m\u001b[0m_take\u001b[0m\u001b[1;33m(\u001b[0m\u001b[0mindexer\u001b[0m\u001b[1;33m,\u001b[0m \u001b[0maxis\u001b[0m\u001b[1;33m=\u001b[0m\u001b[1;36m0\u001b[0m\u001b[1;33m,\u001b[0m \u001b[0mconvert\u001b[0m\u001b[1;33m=\u001b[0m\u001b[1;32mFalse\u001b[0m\u001b[1;33m)\u001b[0m\u001b[1;33m\u001b[0m\u001b[0m\n\u001b[0;32m   2176\u001b[0m         \u001b[1;32melse\u001b[0m\u001b[1;33m:\u001b[0m\u001b[1;33m\u001b[0m\u001b[0m\n\u001b[1;32m-> 2177\u001b[1;33m             \u001b[0mindexer\u001b[0m \u001b[1;33m=\u001b[0m \u001b[0mself\u001b[0m\u001b[1;33m.\u001b[0m\u001b[0mloc\u001b[0m\u001b[1;33m.\u001b[0m\u001b[0m_convert_to_indexer\u001b[0m\u001b[1;33m(\u001b[0m\u001b[0mkey\u001b[0m\u001b[1;33m,\u001b[0m \u001b[0maxis\u001b[0m\u001b[1;33m=\u001b[0m\u001b[1;36m1\u001b[0m\u001b[1;33m)\u001b[0m\u001b[1;33m\u001b[0m\u001b[0m\n\u001b[0m\u001b[0;32m   2178\u001b[0m             \u001b[1;32mreturn\u001b[0m \u001b[0mself\u001b[0m\u001b[1;33m.\u001b[0m\u001b[0m_take\u001b[0m\u001b[1;33m(\u001b[0m\u001b[0mindexer\u001b[0m\u001b[1;33m,\u001b[0m \u001b[0maxis\u001b[0m\u001b[1;33m=\u001b[0m\u001b[1;36m1\u001b[0m\u001b[1;33m,\u001b[0m \u001b[0mconvert\u001b[0m\u001b[1;33m=\u001b[0m\u001b[1;32mTrue\u001b[0m\u001b[1;33m)\u001b[0m\u001b[1;33m\u001b[0m\u001b[0m\n\u001b[0;32m   2179\u001b[0m \u001b[1;33m\u001b[0m\u001b[0m\n",
      "\u001b[1;32m/dataquest/system/env/python3/lib/python3.4/site-packages/pandas/core/indexing.py\u001b[0m in \u001b[0;36m_convert_to_indexer\u001b[1;34m(self, obj, axis, is_setter)\u001b[0m\n\u001b[0;32m   1267\u001b[0m                 \u001b[1;32mif\u001b[0m \u001b[0mmask\u001b[0m\u001b[1;33m.\u001b[0m\u001b[0many\u001b[0m\u001b[1;33m(\u001b[0m\u001b[1;33m)\u001b[0m\u001b[1;33m:\u001b[0m\u001b[1;33m\u001b[0m\u001b[0m\n\u001b[0;32m   1268\u001b[0m                     raise KeyError('{mask} not in index'\n\u001b[1;32m-> 1269\u001b[1;33m                                    .format(mask=objarr[mask]))\n\u001b[0m\u001b[0;32m   1270\u001b[0m \u001b[1;33m\u001b[0m\u001b[0m\n\u001b[0;32m   1271\u001b[0m                 \u001b[1;32mreturn\u001b[0m \u001b[0m_values_from_object\u001b[0m\u001b[1;33m(\u001b[0m\u001b[0mindexer\u001b[0m\u001b[1;33m)\u001b[0m\u001b[1;33m\u001b[0m\u001b[0m\n",
      "\u001b[1;31mKeyError\u001b[0m: \"Index(['Order', 'PID', 'MS SubClass', 'MS Zoning', 'Lot Frontage', 'Lot Area',\\n       'Street', 'Alley', 'Lot Shape', 'Land Contour', 'Utilities',\\n       'Lot Config', 'Land Slope', 'Neighborhood', 'Condition 1',\\n       'Condition 2', 'Bldg Type', 'House Style', 'Overall Cond', 'Year Built',\\n       'Year Remod/Add', 'Roof Style', 'Roof Matl', 'Exterior 1st',\\n       'Exterior 2nd', 'Mas Vnr Type', 'Exter Qual', 'Exter Cond',\\n       'Foundation', 'Bsmt Qual', 'Bsmt Cond', 'Bsmt Exposure',\\n       'BsmtFin Type 1', 'BsmtFin Type 2', 'BsmtFin SF 2', 'Bsmt Unf SF',\\n       'Heating', 'Heating QC', 'Central Air', 'Electrical', '2nd Flr SF',\\n       'Low Qual Fin SF', 'Bsmt Full Bath', 'Bsmt Half Bath', 'Half Bath',\\n       'Bedroom AbvGr', 'Kitchen AbvGr', 'Kitchen Qual', 'Functional',\\n       'Fireplace Qu', 'Garage Type', 'Garage Yr Blt', 'Garage Finish',\\n       'Garage Qual', 'Garage Cond', 'Paved Drive', 'Wood Deck SF',\\n       'Open Porch SF', 'Enclosed Porch', '3Ssn Porch', 'Screen Porch',\\n       'Pool Area', 'Pool QC', 'Fence', 'Misc Feature', 'Misc Val', 'Mo Sold',\\n       'Yr Sold', 'Sale Type', 'Sale Condition'],\\n      dtype='object') not in index\""
     ]
    }
   ],
   "source": [
    "from sklearn.feature_selection import RFE\n",
    "# feature extraction\n",
    "lr = LinearRegression()\n",
    "\n",
    "target = 'SalePrice'\n",
    "features = df.drop([target], axis='columns').columns\n",
    "\n",
    "\n",
    "train = filtered_df.iloc[:1460].to_numpy()\n",
    "X = train[:,]\n",
    "\n",
    "rfe = RFE(lr, 3)\n",
    "fit = rfe.fit(train[features], train[target])\n",
    "\n",
    "print(\"Num Features: %d\" % fit.n_features_)\n",
    "print(\"Selected Features: %s\" % fit.support_)\n",
    "print(\"Feature Ranking: %s\" % fit.ranking_)"
   ]
  },
  {
   "cell_type": "code",
   "execution_count": 36,
   "metadata": {
    "collapsed": false
   },
   "outputs": [
    {
     "name": "stdout",
     "output_type": "stream",
     "text": [
      "Num Features: 3\n",
      "Selected Features: [ True False False False False  True  True False]\n",
      "Feature Ranking: [1 2 4 6 5 1 1 3]\n"
     ]
    }
   ],
   "source": [
    "\n",
    "# Feature Extraction with RFE\n",
    "from pandas import read_csv\n",
    "from sklearn.feature_selection import RFE\n",
    "from sklearn.linear_model import LogisticRegression\n",
    "# load data\n",
    "url = \"https://raw.githubusercontent.com/jbrownlee/Datasets/master/pima-indians-diabetes.csv\"\n",
    "names = ['preg', 'plas', 'pres', 'skin', 'test', 'mass', 'pedi', 'age', 'class']\n",
    "dataframe = read_csv(url, names=names)\n",
    "array = dataframe.values\n",
    "X = array[:,0:8]\n",
    "Y = array[:,8]\n",
    "\n",
    "# feature extraction\n",
    "model = LogisticRegression(solver='lbfgs')\n",
    "rfe = RFE(model, 3)\n",
    "fit = rfe.fit(X, Y)\n",
    "print(\"Num Features: %d\" % fit.n_features_)\n",
    "print(\"Selected Features: %s\" % fit.support_)\n",
    "print(\"Feature Ranking: %s\" % fit.ranking_)"
   ]
  },
  {
   "cell_type": "code",
   "execution_count": 35,
   "metadata": {
    "collapsed": false
   },
   "outputs": [
    {
     "data": {
      "text/plain": [
       "array([1., 0., 1., 0., 1., 0., 1., 0., 1., 1., 0., 1., 0., 1., 1., 1., 1.,\n",
       "       1., 0., 1., 0., 0., 1., 1., 1., 1., 1., 0., 0., 0., 0., 1., 0., 0.,\n",
       "       0., 0., 0., 1., 1., 1., 0., 0., 0., 1., 0., 1., 0., 0., 1., 0., 0.,\n",
       "       0., 0., 1., 0., 0., 1., 0., 0., 0., 0., 1., 0., 0., 1., 0., 1., 0.,\n",
       "       0., 0., 1., 0., 1., 0., 0., 0., 0., 0., 1., 0., 0., 0., 0., 0., 1.,\n",
       "       0., 0., 0., 1., 0., 0., 0., 0., 1., 0., 0., 0., 0., 0., 1., 1., 0.,\n",
       "       0., 0., 0., 0., 0., 0., 0., 1., 1., 1., 0., 0., 1., 1., 1., 0., 0.,\n",
       "       0., 1., 0., 0., 0., 1., 1., 0., 0., 1., 1., 1., 1., 1., 0., 0., 0.,\n",
       "       0., 0., 0., 0., 0., 0., 0., 1., 0., 0., 0., 0., 0., 0., 0., 0., 1.,\n",
       "       0., 1., 1., 0., 0., 0., 1., 0., 0., 0., 0., 1., 1., 0., 0., 0., 0.,\n",
       "       1., 1., 0., 0., 0., 1., 0., 1., 0., 1., 0., 0., 0., 0., 0., 1., 1.,\n",
       "       1., 1., 1., 0., 0., 1., 1., 0., 1., 0., 1., 1., 1., 0., 0., 0., 0.,\n",
       "       0., 0., 1., 1., 0., 1., 0., 0., 0., 1., 1., 1., 1., 0., 1., 1., 1.,\n",
       "       1., 0., 0., 0., 0., 0., 1., 0., 0., 1., 1., 0., 0., 0., 1., 1., 1.,\n",
       "       1., 0., 0., 0., 1., 1., 0., 1., 0., 0., 0., 0., 0., 0., 0., 0., 1.,\n",
       "       1., 0., 0., 0., 1., 0., 1., 0., 0., 1., 0., 1., 0., 0., 1., 1., 0.,\n",
       "       0., 0., 0., 0., 1., 0., 0., 0., 1., 0., 0., 1., 1., 0., 0., 1., 0.,\n",
       "       0., 0., 1., 1., 1., 0., 0., 1., 0., 1., 0., 1., 1., 0., 1., 0., 0.,\n",
       "       1., 0., 1., 1., 0., 0., 1., 0., 1., 0., 0., 1., 0., 1., 0., 1., 1.,\n",
       "       1., 0., 0., 1., 0., 1., 0., 0., 0., 1., 0., 0., 0., 0., 1., 1., 1.,\n",
       "       0., 0., 0., 0., 0., 0., 0., 0., 0., 1., 0., 0., 0., 0., 0., 1., 1.,\n",
       "       1., 0., 1., 1., 0., 0., 1., 0., 0., 1., 0., 0., 1., 1., 0., 0., 0.,\n",
       "       0., 1., 0., 0., 1., 0., 0., 0., 0., 0., 0., 0., 1., 1., 1., 0., 0.,\n",
       "       1., 0., 0., 1., 0., 0., 1., 0., 1., 1., 0., 1., 0., 1., 0., 1., 0.,\n",
       "       1., 1., 0., 0., 0., 0., 1., 1., 0., 1., 0., 1., 0., 0., 0., 0., 1.,\n",
       "       1., 0., 1., 0., 1., 0., 0., 0., 0., 0., 1., 0., 0., 0., 0., 1., 0.,\n",
       "       0., 1., 1., 1., 0., 0., 1., 0., 0., 1., 0., 0., 0., 1., 0., 0., 1.,\n",
       "       0., 0., 0., 0., 0., 0., 0., 0., 0., 1., 0., 0., 0., 0., 0., 0., 0.,\n",
       "       1., 0., 0., 0., 1., 0., 0., 0., 1., 1., 0., 0., 0., 0., 0., 0., 0.,\n",
       "       1., 0., 0., 0., 0., 1., 0., 0., 0., 1., 0., 0., 0., 1., 0., 0., 0.,\n",
       "       1., 0., 0., 0., 0., 1., 1., 0., 0., 0., 0., 0., 0., 1., 0., 0., 0.,\n",
       "       0., 0., 0., 0., 0., 0., 0., 0., 1., 0., 0., 0., 1., 1., 1., 1., 0.,\n",
       "       0., 1., 1., 0., 0., 0., 0., 0., 0., 0., 0., 0., 0., 0., 0., 0., 1.,\n",
       "       1., 0., 0., 0., 0., 0., 0., 0., 1., 0., 0., 0., 0., 0., 0., 0., 1.,\n",
       "       0., 1., 1., 0., 0., 0., 1., 0., 1., 0., 1., 0., 1., 0., 1., 0., 0.,\n",
       "       1., 0., 0., 1., 0., 0., 0., 0., 1., 1., 0., 1., 0., 0., 0., 0., 1.,\n",
       "       1., 0., 1., 0., 0., 0., 1., 1., 0., 0., 0., 0., 0., 0., 0., 0., 0.,\n",
       "       0., 1., 0., 0., 0., 0., 1., 0., 0., 1., 0., 0., 0., 1., 0., 0., 0.,\n",
       "       1., 1., 1., 0., 0., 0., 0., 0., 0., 1., 0., 0., 0., 1., 0., 1., 1.,\n",
       "       1., 1., 0., 1., 1., 0., 0., 0., 0., 0., 0., 0., 1., 1., 0., 1., 0.,\n",
       "       0., 1., 0., 1., 0., 0., 0., 0., 0., 1., 0., 1., 0., 1., 0., 1., 1.,\n",
       "       0., 0., 0., 0., 1., 1., 0., 0., 0., 1., 0., 1., 1., 0., 0., 1., 0.,\n",
       "       0., 1., 1., 0., 0., 1., 0., 0., 1., 0., 0., 0., 0., 0., 0., 0., 1.,\n",
       "       1., 1., 0., 0., 0., 0., 0., 0., 1., 1., 0., 0., 1., 0., 0., 1., 0.,\n",
       "       1., 1., 1., 0., 0., 1., 1., 1., 0., 1., 0., 1., 0., 1., 0., 0., 0.,\n",
       "       0., 1., 0.])"
      ]
     },
     "execution_count": 35,
     "metadata": {},
     "output_type": "execute_result"
    }
   ],
   "source": [
    "Y"
   ]
  },
  {
   "cell_type": "code",
   "execution_count": 39,
   "metadata": {
    "collapsed": false
   },
   "outputs": [
    {
     "data": {
      "text/plain": [
       "array([1, 1, 1, 1, 1, 6, 4, 3, 2, 5])"
      ]
     },
     "execution_count": 39,
     "metadata": {},
     "output_type": "execute_result"
    }
   ],
   "source": [
    "from sklearn.datasets import make_friedman1\n",
    "from sklearn.feature_selection import RFE\n",
    "from sklearn.svm import SVR\n",
    "X, y = make_friedman1(n_samples=50, n_features=10, random_state=0)\n",
    "estimator = SVR(kernel=\"linear\")\n",
    "selector = RFE(estimator, 5, step=1)\n",
    "selector = selector.fit(X, y)\n",
    "selector.support_\n",
    "\n",
    "selector.ranking_\n"
   ]
  },
  {
   "cell_type": "code",
   "execution_count": 41,
   "metadata": {
    "collapsed": false
   },
   "outputs": [
    {
     "data": {
      "text/plain": [
       "(array([[0.5488135 , 0.71518937, 0.60276338, 0.54488318, 0.4236548 ,\n",
       "         0.64589411, 0.43758721, 0.891773  , 0.96366276, 0.38344152],\n",
       "        [0.79172504, 0.52889492, 0.56804456, 0.92559664, 0.07103606,\n",
       "         0.0871293 , 0.0202184 , 0.83261985, 0.77815675, 0.87001215],\n",
       "        [0.97861834, 0.79915856, 0.46147936, 0.78052918, 0.11827443,\n",
       "         0.63992102, 0.14335329, 0.94466892, 0.52184832, 0.41466194],\n",
       "        [0.26455561, 0.77423369, 0.45615033, 0.56843395, 0.0187898 ,\n",
       "         0.6176355 , 0.61209572, 0.616934  , 0.94374808, 0.6818203 ],\n",
       "        [0.3595079 , 0.43703195, 0.6976312 , 0.06022547, 0.66676672,\n",
       "         0.67063787, 0.21038256, 0.1289263 , 0.31542835, 0.36371077],\n",
       "        [0.57019677, 0.43860151, 0.98837384, 0.10204481, 0.20887676,\n",
       "         0.16130952, 0.65310833, 0.2532916 , 0.46631077, 0.24442559],\n",
       "        [0.15896958, 0.11037514, 0.65632959, 0.13818295, 0.19658236,\n",
       "         0.36872517, 0.82099323, 0.09710128, 0.83794491, 0.09609841],\n",
       "        [0.97645947, 0.4686512 , 0.97676109, 0.60484552, 0.73926358,\n",
       "         0.03918779, 0.28280696, 0.12019656, 0.2961402 , 0.11872772],\n",
       "        [0.31798318, 0.41426299, 0.0641475 , 0.69247212, 0.56660145,\n",
       "         0.26538949, 0.52324805, 0.09394051, 0.5759465 , 0.9292962 ],\n",
       "        [0.31856895, 0.66741038, 0.13179786, 0.7163272 , 0.28940609,\n",
       "         0.18319136, 0.58651293, 0.02010755, 0.82894003, 0.00469548],\n",
       "        [0.67781654, 0.27000797, 0.73519402, 0.96218855, 0.24875314,\n",
       "         0.57615733, 0.59204193, 0.57225191, 0.22308163, 0.95274901],\n",
       "        [0.44712538, 0.84640867, 0.69947928, 0.29743695, 0.81379782,\n",
       "         0.39650574, 0.8811032 , 0.58127287, 0.88173536, 0.69253159],\n",
       "        [0.72525428, 0.50132438, 0.95608363, 0.6439902 , 0.42385505,\n",
       "         0.60639321, 0.0191932 , 0.30157482, 0.66017354, 0.29007761],\n",
       "        [0.61801543, 0.4287687 , 0.13547406, 0.29828233, 0.56996491,\n",
       "         0.59087276, 0.57432525, 0.65320082, 0.65210327, 0.43141844],\n",
       "        [0.8965466 , 0.36756187, 0.43586493, 0.89192336, 0.80619399,\n",
       "         0.70388858, 0.10022689, 0.91948261, 0.7142413 , 0.99884701],\n",
       "        [0.1494483 , 0.86812606, 0.16249293, 0.61555956, 0.12381998,\n",
       "         0.84800823, 0.80731896, 0.56910074, 0.4071833 , 0.069167  ],\n",
       "        [0.69742877, 0.45354268, 0.7220556 , 0.86638233, 0.97552151,\n",
       "         0.85580334, 0.01171408, 0.35997806, 0.72999056, 0.17162968],\n",
       "        [0.52103661, 0.05433799, 0.19999652, 0.01852179, 0.7936977 ,\n",
       "         0.22392469, 0.34535168, 0.92808129, 0.7044144 , 0.03183893],\n",
       "        [0.16469416, 0.6214784 , 0.57722859, 0.23789282, 0.934214  ,\n",
       "         0.61396596, 0.5356328 , 0.58990998, 0.73012203, 0.311945  ],\n",
       "        [0.39822106, 0.20984375, 0.18619301, 0.94437239, 0.7395508 ,\n",
       "         0.49045881, 0.22741463, 0.25435648, 0.05802916, 0.43441663],\n",
       "        [0.31179588, 0.69634349, 0.37775184, 0.17960368, 0.02467873,\n",
       "         0.06724963, 0.67939277, 0.45369684, 0.53657921, 0.89667129],\n",
       "        [0.99033895, 0.21689698, 0.6630782 , 0.26332238, 0.020651  ,\n",
       "         0.75837865, 0.32001715, 0.38346389, 0.58831711, 0.83104846],\n",
       "        [0.62898184, 0.87265066, 0.27354203, 0.79804683, 0.18563594,\n",
       "         0.95279166, 0.68748828, 0.21550768, 0.94737059, 0.73085581],\n",
       "        [0.25394164, 0.21331198, 0.51820071, 0.02566272, 0.20747008,\n",
       "         0.42468547, 0.37416998, 0.46357542, 0.27762871, 0.58678435],\n",
       "        [0.86385561, 0.11753186, 0.51737911, 0.13206811, 0.71685968,\n",
       "         0.3960597 , 0.56542131, 0.18327984, 0.14484776, 0.48805628],\n",
       "        [0.35561274, 0.94043195, 0.76532525, 0.74866362, 0.90371974,\n",
       "         0.08342244, 0.55219247, 0.58447607, 0.96193638, 0.29214753],\n",
       "        [0.24082878, 0.10029394, 0.01642963, 0.92952932, 0.66991655,\n",
       "         0.78515291, 0.28173011, 0.58641017, 0.06395527, 0.4856276 ],\n",
       "        [0.97749514, 0.87650525, 0.33815895, 0.96157015, 0.23170163,\n",
       "         0.94931882, 0.9413777 , 0.79920259, 0.63044794, 0.87428797],\n",
       "        [0.29302028, 0.84894356, 0.61787669, 0.01323686, 0.34723352,\n",
       "         0.14814086, 0.98182939, 0.47837031, 0.49739137, 0.63947252],\n",
       "        [0.36858461, 0.13690027, 0.82211773, 0.18984791, 0.51131898,\n",
       "         0.22431703, 0.09784448, 0.86219152, 0.97291949, 0.96083466],\n",
       "        [0.9065555 , 0.77404733, 0.33314515, 0.08110139, 0.40724117,\n",
       "         0.23223414, 0.13248763, 0.05342718, 0.72559436, 0.01142746],\n",
       "        [0.77058075, 0.14694665, 0.07952208, 0.08960303, 0.67204781,\n",
       "         0.24536721, 0.42053947, 0.55736879, 0.86055117, 0.72704426],\n",
       "        [0.27032791, 0.1314828 , 0.05537432, 0.30159863, 0.26211815,\n",
       "         0.45614057, 0.68328134, 0.69562545, 0.28351885, 0.37992696],\n",
       "        [0.18115096, 0.78854551, 0.05684808, 0.69699724, 0.7786954 ,\n",
       "         0.77740756, 0.25942256, 0.37381314, 0.58759964, 0.2728219 ],\n",
       "        [0.3708528 , 0.19705428, 0.45985588, 0.0446123 , 0.79979588,\n",
       "         0.07695645, 0.51883515, 0.3068101 , 0.57754295, 0.95943334],\n",
       "        [0.64557024, 0.03536244, 0.43040244, 0.51001685, 0.53617749,\n",
       "         0.68139251, 0.2775961 , 0.12886057, 0.39267568, 0.95640572],\n",
       "        [0.18713089, 0.90398395, 0.54380595, 0.45691142, 0.88204141,\n",
       "         0.45860396, 0.72416764, 0.39902532, 0.90404439, 0.69002502],\n",
       "        [0.69962205, 0.3277204 , 0.75677864, 0.63606106, 0.24002027,\n",
       "         0.16053882, 0.79639147, 0.9591666 , 0.45813883, 0.59098417],\n",
       "        [0.85772264, 0.45722345, 0.95187448, 0.57575116, 0.82076712,\n",
       "         0.90884372, 0.81552382, 0.15941446, 0.62889844, 0.39843426],\n",
       "        [0.06271295, 0.42403225, 0.25868407, 0.84903831, 0.03330463,\n",
       "         0.95898272, 0.35536885, 0.35670689, 0.0163285 , 0.18523233],\n",
       "        [0.4012595 , 0.92929142, 0.09961493, 0.94530153, 0.86948853,\n",
       "         0.4541624 , 0.32670088, 0.23274413, 0.61446471, 0.03307459],\n",
       "        [0.01560606, 0.42879572, 0.06807407, 0.25194099, 0.22116092,\n",
       "         0.25319119, 0.13105523, 0.01203622, 0.1154843 , 0.61848026],\n",
       "        [0.97425621, 0.990345  , 0.4090541 , 0.16295443, 0.63876176,\n",
       "         0.49030535, 0.98940978, 0.06530421, 0.78323444, 0.2883985 ],\n",
       "        [0.24141862, 0.66250457, 0.24606318, 0.66585912, 0.51730852,\n",
       "         0.42408899, 0.55468781, 0.28705152, 0.70657471, 0.41485687],\n",
       "        [0.36054556, 0.82865691, 0.92496691, 0.04600731, 0.23262699,\n",
       "         0.34851937, 0.81496648, 0.98549143, 0.9689717 , 0.90494835],\n",
       "        [0.29655627, 0.99201124, 0.24942004, 0.10590615, 0.95095261,\n",
       "         0.23342026, 0.68976827, 0.05835636, 0.7307091 , 0.88172021],\n",
       "        [0.2724369 , 0.3790569 , 0.37429618, 0.74878826, 0.23780724,\n",
       "         0.1718531 , 0.44929165, 0.30446841, 0.83918912, 0.23774183],\n",
       "        [0.50238946, 0.9425836 , 0.6339977 , 0.86728941, 0.94020969,\n",
       "         0.75076486, 0.69957506, 0.96796557, 0.99440079, 0.45182168],\n",
       "        [0.07086978, 0.29279403, 0.15235471, 0.41748637, 0.13128933,\n",
       "         0.6041178 , 0.38280806, 0.89538588, 0.96779467, 0.5468849 ],\n",
       "        [0.27482357, 0.59223042, 0.89676116, 0.40673335, 0.55207828,\n",
       "         0.27165277, 0.45544415, 0.40171354, 0.24841347, 0.50586638]]),\n",
       " array([17.2134918 , 19.37965436, 14.75030901, 11.81662128,  9.45520588,\n",
       "        13.90806032,  3.40447398, 24.20228984, 17.5783377 , 17.51556532,\n",
       "        17.40999895, 17.11893656, 21.81510702, 15.88623898, 21.63246599,\n",
       "        13.01689624, 22.908266  ,  6.84202611, 10.32969753, 17.70617001,\n",
       "         8.52251585,  9.51592807, 19.81663198,  2.99416378,  8.04688453,\n",
       "        22.09060713, 18.07976383, 15.64717616,  9.18985112,  8.10886643,\n",
       "        11.46237964, 11.27510587,  9.39472899, 19.12963765,  6.75303583,\n",
       "         8.59450992, 14.08547252, 15.47556192, 23.37684908, 10.65602456,\n",
       "        26.21981092,  7.56662861,  6.09081028, 15.3507226 , 13.30251573,\n",
       "        15.05111884, 12.18062778, 23.69853054,  7.89988206, 14.86941989]))"
      ]
     },
     "execution_count": 41,
     "metadata": {},
     "output_type": "execute_result"
    }
   ],
   "source": [
    "make_friedman1(n_samples=50, n_features=10, random_state=0)"
   ]
  },
  {
   "cell_type": "code",
   "execution_count": null,
   "metadata": {
    "collapsed": true
   },
   "outputs": [],
   "source": []
  }
 ],
 "metadata": {
  "anaconda-cloud": {},
  "kernelspec": {
   "display_name": "Python 3",
   "language": "python",
   "name": "python3"
  },
  "language_info": {
   "codemirror_mode": {
    "name": "ipython",
    "version": 3
   },
   "file_extension": ".py",
   "mimetype": "text/x-python",
   "name": "python",
   "nbconvert_exporter": "python",
   "pygments_lexer": "ipython3",
   "version": "3.4.3"
  }
 },
 "nbformat": 4,
 "nbformat_minor": 2
}
