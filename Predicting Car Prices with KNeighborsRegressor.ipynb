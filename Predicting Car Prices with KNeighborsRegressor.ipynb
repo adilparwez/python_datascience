{
 "cells": [
  {
   "cell_type": "code",
   "execution_count": 4,
   "metadata": {
    "collapsed": true
   },
   "outputs": [],
   "source": [
    "# description at https://archive.ics.uci.edu/ml/datasets/automobile\n",
    "# data at https://archive.ics.uci.edu/ml/machine-learning-databases/autos/imports-85.data\n",
    "\n",
    "import pandas as pd\n",
    "import numpy as np\n",
    "import matplotlib.pyplot as plt\n",
    "%matplotlib inline\n",
    "\n",
    "pd.options.display.max_columns = 99"
   ]
  },
  {
   "cell_type": "code",
   "execution_count": 5,
   "metadata": {
    "collapsed": false
   },
   "outputs": [],
   "source": [
    "col_names = ['symboling','normalized_losses','make','fuel_type','aspiration','num_doors','body_style','drive_wheels','engine_location','wheel_base','length','width',\n",
    "             'height','curb_weight','engine_type','num_cylinders','engine_size','fuel_system','bore','stroke','compression_ratio','horsepower','peak_rpm','city_mpg','highway_mpg','price']\n",
    "\n",
    "cars = pd.read_csv('https://archive.ics.uci.edu/ml/machine-learning-databases/autos/imports-85.data', names=col_names, na_values='?' )"
   ]
  },
  {
   "cell_type": "code",
   "execution_count": 6,
   "metadata": {
    "collapsed": false
   },
   "outputs": [
    {
     "data": {
      "text/html": [
       "<div>\n",
       "<style scoped>\n",
       "    .dataframe tbody tr th:only-of-type {\n",
       "        vertical-align: middle;\n",
       "    }\n",
       "\n",
       "    .dataframe tbody tr th {\n",
       "        vertical-align: top;\n",
       "    }\n",
       "\n",
       "    .dataframe thead th {\n",
       "        text-align: right;\n",
       "    }\n",
       "</style>\n",
       "<table border=\"1\" class=\"dataframe\">\n",
       "  <thead>\n",
       "    <tr style=\"text-align: right;\">\n",
       "      <th></th>\n",
       "      <th>symboling</th>\n",
       "      <th>normalized_losses</th>\n",
       "      <th>make</th>\n",
       "      <th>fuel_type</th>\n",
       "      <th>aspiration</th>\n",
       "      <th>num_doors</th>\n",
       "      <th>body_style</th>\n",
       "      <th>drive_wheels</th>\n",
       "      <th>engine_location</th>\n",
       "      <th>wheel_base</th>\n",
       "      <th>length</th>\n",
       "      <th>width</th>\n",
       "      <th>height</th>\n",
       "      <th>curb_weight</th>\n",
       "      <th>engine_type</th>\n",
       "      <th>num_cylinders</th>\n",
       "      <th>engine_size</th>\n",
       "      <th>fuel_system</th>\n",
       "      <th>bore</th>\n",
       "      <th>stroke</th>\n",
       "      <th>compression_ratio</th>\n",
       "      <th>horsepower</th>\n",
       "      <th>peak_rpm</th>\n",
       "      <th>city_mpg</th>\n",
       "      <th>highway_mpg</th>\n",
       "      <th>price</th>\n",
       "    </tr>\n",
       "  </thead>\n",
       "  <tbody>\n",
       "    <tr>\n",
       "      <th>0</th>\n",
       "      <td>3</td>\n",
       "      <td>NaN</td>\n",
       "      <td>alfa-romero</td>\n",
       "      <td>gas</td>\n",
       "      <td>std</td>\n",
       "      <td>two</td>\n",
       "      <td>convertible</td>\n",
       "      <td>rwd</td>\n",
       "      <td>front</td>\n",
       "      <td>88.6</td>\n",
       "      <td>168.8</td>\n",
       "      <td>64.1</td>\n",
       "      <td>48.8</td>\n",
       "      <td>2548</td>\n",
       "      <td>dohc</td>\n",
       "      <td>four</td>\n",
       "      <td>130</td>\n",
       "      <td>mpfi</td>\n",
       "      <td>3.47</td>\n",
       "      <td>2.68</td>\n",
       "      <td>9.0</td>\n",
       "      <td>111.0</td>\n",
       "      <td>5000.0</td>\n",
       "      <td>21</td>\n",
       "      <td>27</td>\n",
       "      <td>13495.0</td>\n",
       "    </tr>\n",
       "    <tr>\n",
       "      <th>1</th>\n",
       "      <td>3</td>\n",
       "      <td>NaN</td>\n",
       "      <td>alfa-romero</td>\n",
       "      <td>gas</td>\n",
       "      <td>std</td>\n",
       "      <td>two</td>\n",
       "      <td>convertible</td>\n",
       "      <td>rwd</td>\n",
       "      <td>front</td>\n",
       "      <td>88.6</td>\n",
       "      <td>168.8</td>\n",
       "      <td>64.1</td>\n",
       "      <td>48.8</td>\n",
       "      <td>2548</td>\n",
       "      <td>dohc</td>\n",
       "      <td>four</td>\n",
       "      <td>130</td>\n",
       "      <td>mpfi</td>\n",
       "      <td>3.47</td>\n",
       "      <td>2.68</td>\n",
       "      <td>9.0</td>\n",
       "      <td>111.0</td>\n",
       "      <td>5000.0</td>\n",
       "      <td>21</td>\n",
       "      <td>27</td>\n",
       "      <td>16500.0</td>\n",
       "    </tr>\n",
       "    <tr>\n",
       "      <th>2</th>\n",
       "      <td>1</td>\n",
       "      <td>NaN</td>\n",
       "      <td>alfa-romero</td>\n",
       "      <td>gas</td>\n",
       "      <td>std</td>\n",
       "      <td>two</td>\n",
       "      <td>hatchback</td>\n",
       "      <td>rwd</td>\n",
       "      <td>front</td>\n",
       "      <td>94.5</td>\n",
       "      <td>171.2</td>\n",
       "      <td>65.5</td>\n",
       "      <td>52.4</td>\n",
       "      <td>2823</td>\n",
       "      <td>ohcv</td>\n",
       "      <td>six</td>\n",
       "      <td>152</td>\n",
       "      <td>mpfi</td>\n",
       "      <td>2.68</td>\n",
       "      <td>3.47</td>\n",
       "      <td>9.0</td>\n",
       "      <td>154.0</td>\n",
       "      <td>5000.0</td>\n",
       "      <td>19</td>\n",
       "      <td>26</td>\n",
       "      <td>16500.0</td>\n",
       "    </tr>\n",
       "    <tr>\n",
       "      <th>3</th>\n",
       "      <td>2</td>\n",
       "      <td>164.0</td>\n",
       "      <td>audi</td>\n",
       "      <td>gas</td>\n",
       "      <td>std</td>\n",
       "      <td>four</td>\n",
       "      <td>sedan</td>\n",
       "      <td>fwd</td>\n",
       "      <td>front</td>\n",
       "      <td>99.8</td>\n",
       "      <td>176.6</td>\n",
       "      <td>66.2</td>\n",
       "      <td>54.3</td>\n",
       "      <td>2337</td>\n",
       "      <td>ohc</td>\n",
       "      <td>four</td>\n",
       "      <td>109</td>\n",
       "      <td>mpfi</td>\n",
       "      <td>3.19</td>\n",
       "      <td>3.40</td>\n",
       "      <td>10.0</td>\n",
       "      <td>102.0</td>\n",
       "      <td>5500.0</td>\n",
       "      <td>24</td>\n",
       "      <td>30</td>\n",
       "      <td>13950.0</td>\n",
       "    </tr>\n",
       "  </tbody>\n",
       "</table>\n",
       "</div>"
      ],
      "text/plain": [
       "   symboling  normalized_losses         make fuel_type aspiration num_doors  \\\n",
       "0          3                NaN  alfa-romero       gas        std       two   \n",
       "1          3                NaN  alfa-romero       gas        std       two   \n",
       "2          1                NaN  alfa-romero       gas        std       two   \n",
       "3          2              164.0         audi       gas        std      four   \n",
       "\n",
       "    body_style drive_wheels engine_location  wheel_base  length  width  \\\n",
       "0  convertible          rwd           front        88.6   168.8   64.1   \n",
       "1  convertible          rwd           front        88.6   168.8   64.1   \n",
       "2    hatchback          rwd           front        94.5   171.2   65.5   \n",
       "3        sedan          fwd           front        99.8   176.6   66.2   \n",
       "\n",
       "   height  curb_weight engine_type num_cylinders  engine_size fuel_system  \\\n",
       "0    48.8         2548        dohc          four          130        mpfi   \n",
       "1    48.8         2548        dohc          four          130        mpfi   \n",
       "2    52.4         2823        ohcv           six          152        mpfi   \n",
       "3    54.3         2337         ohc          four          109        mpfi   \n",
       "\n",
       "   bore  stroke  compression_ratio  horsepower  peak_rpm  city_mpg  \\\n",
       "0  3.47    2.68                9.0       111.0    5000.0        21   \n",
       "1  3.47    2.68                9.0       111.0    5000.0        21   \n",
       "2  2.68    3.47                9.0       154.0    5000.0        19   \n",
       "3  3.19    3.40               10.0       102.0    5500.0        24   \n",
       "\n",
       "   highway_mpg    price  \n",
       "0           27  13495.0  \n",
       "1           27  16500.0  \n",
       "2           26  16500.0  \n",
       "3           30  13950.0  "
      ]
     },
     "execution_count": 6,
     "metadata": {},
     "output_type": "execute_result"
    }
   ],
   "source": [
    "cars.head(4)\n"
   ]
  },
  {
   "cell_type": "code",
   "execution_count": 7,
   "metadata": {
    "collapsed": false
   },
   "outputs": [
    {
     "name": "stdout",
     "output_type": "stream",
     "text": [
      "<class 'pandas.core.frame.DataFrame'>\n",
      "RangeIndex: 205 entries, 0 to 204\n",
      "Data columns (total 26 columns):\n",
      "symboling            205 non-null int64\n",
      "normalized_losses    164 non-null float64\n",
      "make                 205 non-null object\n",
      "fuel_type            205 non-null object\n",
      "aspiration           205 non-null object\n",
      "num_doors            203 non-null object\n",
      "body_style           205 non-null object\n",
      "drive_wheels         205 non-null object\n",
      "engine_location      205 non-null object\n",
      "wheel_base           205 non-null float64\n",
      "length               205 non-null float64\n",
      "width                205 non-null float64\n",
      "height               205 non-null float64\n",
      "curb_weight          205 non-null int64\n",
      "engine_type          205 non-null object\n",
      "num_cylinders        205 non-null object\n",
      "engine_size          205 non-null int64\n",
      "fuel_system          205 non-null object\n",
      "bore                 201 non-null float64\n",
      "stroke               201 non-null float64\n",
      "compression_ratio    205 non-null float64\n",
      "horsepower           203 non-null float64\n",
      "peak_rpm             203 non-null float64\n",
      "city_mpg             205 non-null int64\n",
      "highway_mpg          205 non-null int64\n",
      "price                201 non-null float64\n",
      "dtypes: float64(11), int64(5), object(10)\n",
      "memory usage: 41.7+ KB\n"
     ]
    }
   ],
   "source": [
    "cars.info()"
   ]
  },
  {
   "cell_type": "code",
   "execution_count": 8,
   "metadata": {
    "collapsed": false
   },
   "outputs": [
    {
     "data": {
      "text/plain": [
       "symboling             0\n",
       "normalized_losses    41\n",
       "make                  0\n",
       "fuel_type             0\n",
       "aspiration            0\n",
       "num_doors             2\n",
       "body_style            0\n",
       "drive_wheels          0\n",
       "engine_location       0\n",
       "wheel_base            0\n",
       "length                0\n",
       "width                 0\n",
       "height                0\n",
       "curb_weight           0\n",
       "engine_type           0\n",
       "num_cylinders         0\n",
       "engine_size           0\n",
       "fuel_system           0\n",
       "bore                  4\n",
       "stroke                4\n",
       "compression_ratio     0\n",
       "horsepower            2\n",
       "peak_rpm              2\n",
       "city_mpg              0\n",
       "highway_mpg           0\n",
       "price                 4\n",
       "dtype: int64"
      ]
     },
     "execution_count": 8,
     "metadata": {},
     "output_type": "execute_result"
    }
   ],
   "source": [
    "cars.isnull().sum()"
   ]
  },
  {
   "cell_type": "code",
   "execution_count": 9,
   "metadata": {
    "collapsed": true
   },
   "outputs": [],
   "source": [
    "# taking continuous values features as numeric only from https://archive.ics.uci.edu/ml/datasets/automobile\n",
    "\n",
    "target = 'price'\n",
    "numeric_features = ['normalized_losses','wheel_base','length','width',\n",
    "                    'height','curb_weight','engine_size','bore','stroke',\n",
    "                    'compression_ratio','horsepower','peak_rpm',\n",
    "                    'city_mpg','highway_mpg', 'price']\n",
    "\n",
    "parameters = ['symboling','normalized_losses','make','fuel_type',\n",
    "              'aspiration','num_doors','body_style','drive_wheels',\n",
    "              'engine_location','length','width','height',\n",
    "              'curb_weight','engine_type','num_cylinders',\n",
    "              'engine_size','fuel_system','bore','stroke',\n",
    "              'compression_ratio','horsepower','peak_rpm','city_mpg',\n",
    "              'highway_mpg']"
   ]
  },
  {
   "cell_type": "code",
   "execution_count": 10,
   "metadata": {
    "collapsed": false
   },
   "outputs": [],
   "source": [
    "numeric_cars = cars.loc[:,numeric_features]"
   ]
  },
  {
   "cell_type": "code",
   "execution_count": 11,
   "metadata": {
    "collapsed": false
   },
   "outputs": [
    {
     "data": {
      "text/plain": [
       "normalized_losses    41\n",
       "wheel_base            0\n",
       "length                0\n",
       "width                 0\n",
       "height                0\n",
       "curb_weight           0\n",
       "engine_size           0\n",
       "bore                  4\n",
       "stroke                4\n",
       "compression_ratio     0\n",
       "horsepower            2\n",
       "peak_rpm              2\n",
       "city_mpg              0\n",
       "highway_mpg           0\n",
       "price                 4\n",
       "dtype: int64"
      ]
     },
     "execution_count": 11,
     "metadata": {},
     "output_type": "execute_result"
    }
   ],
   "source": [
    "numeric_cars.isnull().sum()"
   ]
  },
  {
   "cell_type": "code",
   "execution_count": 12,
   "metadata": {
    "collapsed": false
   },
   "outputs": [
    {
     "name": "stdout",
     "output_type": "stream",
     "text": [
      "<class 'pandas.core.frame.DataFrame'>\n",
      "RangeIndex: 205 entries, 0 to 204\n",
      "Data columns (total 15 columns):\n",
      "normalized_losses    164 non-null float64\n",
      "wheel_base           205 non-null float64\n",
      "length               205 non-null float64\n",
      "width                205 non-null float64\n",
      "height               205 non-null float64\n",
      "curb_weight          205 non-null int64\n",
      "engine_size          205 non-null int64\n",
      "bore                 201 non-null float64\n",
      "stroke               201 non-null float64\n",
      "compression_ratio    205 non-null float64\n",
      "horsepower           203 non-null float64\n",
      "peak_rpm             203 non-null float64\n",
      "city_mpg             205 non-null int64\n",
      "highway_mpg          205 non-null int64\n",
      "price                201 non-null float64\n",
      "dtypes: float64(11), int64(4)\n",
      "memory usage: 24.1 KB\n"
     ]
    }
   ],
   "source": [
    "numeric_cars.info()"
   ]
  },
  {
   "cell_type": "code",
   "execution_count": 13,
   "metadata": {
    "collapsed": false
   },
   "outputs": [
    {
     "data": {
      "text/plain": [
       "normalized_losses    37\n",
       "wheel_base            0\n",
       "length                0\n",
       "width                 0\n",
       "height                0\n",
       "curb_weight           0\n",
       "engine_size           0\n",
       "bore                  4\n",
       "stroke                4\n",
       "compression_ratio     0\n",
       "horsepower            2\n",
       "peak_rpm              2\n",
       "city_mpg              0\n",
       "highway_mpg           0\n",
       "price                 0\n",
       "dtype: int64"
      ]
     },
     "execution_count": 13,
     "metadata": {},
     "output_type": "execute_result"
    }
   ],
   "source": [
    "# dropping rows where price is null as price is the target\n",
    "numeric_cars.dropna(subset=['price'], inplace=True)\n",
    "numeric_cars.isnull().sum()"
   ]
  },
  {
   "cell_type": "code",
   "execution_count": 14,
   "metadata": {
    "collapsed": false
   },
   "outputs": [
    {
     "data": {
      "text/plain": [
       "wheel_base           0\n",
       "length               0\n",
       "width                0\n",
       "height               0\n",
       "curb_weight          0\n",
       "engine_size          0\n",
       "bore                 0\n",
       "stroke               0\n",
       "compression_ratio    0\n",
       "horsepower           0\n",
       "peak_rpm             0\n",
       "city_mpg             0\n",
       "highway_mpg          0\n",
       "price                0\n",
       "dtype: int64"
      ]
     },
     "execution_count": 14,
     "metadata": {},
     "output_type": "execute_result"
    }
   ],
   "source": [
    "# fill Nan with means in other columns\n",
    "numeric_cars.drop('normalized_losses', axis='columns', inplace=True)\n",
    "\n",
    "numeric_cars.fillna(cars.mean(), inplace=True)\n",
    "numeric_cars.isnull().sum()"
   ]
  },
  {
   "cell_type": "code",
   "execution_count": 15,
   "metadata": {
    "collapsed": false
   },
   "outputs": [
    {
     "data": {
      "text/html": [
       "<div>\n",
       "<style scoped>\n",
       "    .dataframe tbody tr th:only-of-type {\n",
       "        vertical-align: middle;\n",
       "    }\n",
       "\n",
       "    .dataframe tbody tr th {\n",
       "        vertical-align: top;\n",
       "    }\n",
       "\n",
       "    .dataframe thead th {\n",
       "        text-align: right;\n",
       "    }\n",
       "</style>\n",
       "<table border=\"1\" class=\"dataframe\">\n",
       "  <thead>\n",
       "    <tr style=\"text-align: right;\">\n",
       "      <th></th>\n",
       "      <th>wheel_base</th>\n",
       "      <th>length</th>\n",
       "      <th>width</th>\n",
       "      <th>height</th>\n",
       "      <th>curb_weight</th>\n",
       "      <th>engine_size</th>\n",
       "      <th>bore</th>\n",
       "      <th>stroke</th>\n",
       "      <th>compression_ratio</th>\n",
       "      <th>horsepower</th>\n",
       "      <th>peak_rpm</th>\n",
       "      <th>city_mpg</th>\n",
       "      <th>highway_mpg</th>\n",
       "      <th>price</th>\n",
       "    </tr>\n",
       "  </thead>\n",
       "  <tbody>\n",
       "    <tr>\n",
       "      <th>0</th>\n",
       "      <td>0.058309</td>\n",
       "      <td>0.413433</td>\n",
       "      <td>0.324786</td>\n",
       "      <td>0.083333</td>\n",
       "      <td>0.411171</td>\n",
       "      <td>0.260377</td>\n",
       "      <td>0.664286</td>\n",
       "      <td>0.290476</td>\n",
       "      <td>0.125</td>\n",
       "      <td>0.294393</td>\n",
       "      <td>0.346939</td>\n",
       "      <td>0.222222</td>\n",
       "      <td>0.289474</td>\n",
       "      <td>13495.0</td>\n",
       "    </tr>\n",
       "    <tr>\n",
       "      <th>1</th>\n",
       "      <td>0.058309</td>\n",
       "      <td>0.413433</td>\n",
       "      <td>0.324786</td>\n",
       "      <td>0.083333</td>\n",
       "      <td>0.411171</td>\n",
       "      <td>0.260377</td>\n",
       "      <td>0.664286</td>\n",
       "      <td>0.290476</td>\n",
       "      <td>0.125</td>\n",
       "      <td>0.294393</td>\n",
       "      <td>0.346939</td>\n",
       "      <td>0.222222</td>\n",
       "      <td>0.289474</td>\n",
       "      <td>16500.0</td>\n",
       "    </tr>\n",
       "  </tbody>\n",
       "</table>\n",
       "</div>"
      ],
      "text/plain": [
       "   wheel_base    length     width    height  curb_weight  engine_size  \\\n",
       "0    0.058309  0.413433  0.324786  0.083333     0.411171     0.260377   \n",
       "1    0.058309  0.413433  0.324786  0.083333     0.411171     0.260377   \n",
       "\n",
       "       bore    stroke  compression_ratio  horsepower  peak_rpm  city_mpg  \\\n",
       "0  0.664286  0.290476              0.125    0.294393  0.346939  0.222222   \n",
       "1  0.664286  0.290476              0.125    0.294393  0.346939  0.222222   \n",
       "\n",
       "   highway_mpg    price  \n",
       "0     0.289474  13495.0  \n",
       "1     0.289474  16500.0  "
      ]
     },
     "execution_count": 15,
     "metadata": {},
     "output_type": "execute_result"
    }
   ],
   "source": [
    "# lets normalise all features so all values are between 0 and 1except 'price'\n",
    "# 𝑧𝑖=𝑥𝑖−min(𝑥)/max(𝑥)−min(𝑥)\n",
    "\n",
    "norm_numeric_cars = (numeric_cars - numeric_cars.min())/(numeric_cars.max() - numeric_cars.min())\n",
    "norm_numeric_cars['price'] = numeric_cars['price']\n",
    "norm_numeric_cars.head(2)"
   ]
  },
  {
   "cell_type": "markdown",
   "metadata": {},
   "source": [
    "## Univariate Model"
   ]
  },
  {
   "cell_type": "markdown",
   "metadata": {},
   "source": [
    "#### with default K"
   ]
  },
  {
   "cell_type": "code",
   "execution_count": 16,
   "metadata": {
    "collapsed": false
   },
   "outputs": [],
   "source": [
    "from sklearn.neighbors import KNeighborsRegressor\n",
    "from sklearn.metrics import mean_squared_error\n",
    "\n",
    "def knn_train_test(df, features, target):\n",
    "    \n",
    "    np.random.seed(1)\n",
    "    \n",
    "    # randomising index to remove bais of dataset order\n",
    "    df.reindex(np.random.permutation(df.index))\n",
    "    \n",
    "    # splitting dataset into half for train and test data sets\n",
    "    df_train = df.iloc[0:round(len(df)/2)]\n",
    "    df_test = df.iloc[round(len(df)/2):]\n",
    "    \n",
    "    # initialising model\n",
    "    knn = KNeighborsRegressor()\n",
    "    # fitting model\n",
    "    knn.fit(df_train[features], df_train[target])\n",
    "    # using model to predit target\n",
    "    predicted = knn.predict(df_test[features])\n",
    "    # calculating Root Mean Squared Value\n",
    "    RMSE = mean_squared_error(df_test[target], predicted)**0.5\n",
    "    \n",
    "    return RMSE\n"
   ]
  },
  {
   "cell_type": "code",
   "execution_count": 17,
   "metadata": {
    "collapsed": false
   },
   "outputs": [
    {
     "data": {
      "text/plain": [
       "bore                 13408.016741\n",
       "city_mpg              4814.778015\n",
       "compression_ratio     8096.301512\n",
       "curb_weight           5166.828581\n",
       "engine_size           4190.433888\n",
       "height               10839.693636\n",
       "highway_mpg           4628.793094\n",
       "horsepower            4267.730361\n",
       "length                8304.189346\n",
       "peak_rpm              9759.209970\n",
       "stroke                9334.714914\n",
       "wheel_base            9969.243292\n",
       "width                 7110.412630\n",
       "dtype: float64"
      ]
     },
     "execution_count": 17,
     "metadata": {},
     "output_type": "execute_result"
    }
   ],
   "source": [
    "# Running Function for all features\n",
    "RMSE_dict = {} \n",
    "\n",
    "for parameter in norm_numeric_cars.columns.tolist():\n",
    "    if parameter != target:\n",
    "        RMSE_dict[parameter] = knn_train_test(norm_numeric_cars, [parameter],'price')\n",
    "\n",
    "# making series for clearer viewing\n",
    "pd.Series(RMSE_dict)"
   ]
  },
  {
   "cell_type": "markdown",
   "metadata": {},
   "source": [
    "#### With Grid Search option for K"
   ]
  },
  {
   "cell_type": "code",
   "execution_count": 18,
   "metadata": {
    "collapsed": true
   },
   "outputs": [],
   "source": [
    "from sklearn.neighbors import KNeighborsRegressor\n",
    "from sklearn.metrics import mean_squared_error\n",
    "\n",
    "def knn_train_test(df, features, target, k_lst=[1,3,5,7,9]):\n",
    "    \n",
    "    np.random.seed(1)\n",
    "    \n",
    "    # randomising index to remove bais of dataset order\n",
    "    df.reindex(np.random.permutation(df.index))\n",
    "    \n",
    "    # splitting dataset into half for train and test data sets\n",
    "    df_train = df.iloc[0:round(len(df)/2)]\n",
    "    df_test = df.iloc[round(len(df)/2):]\n",
    "    \n",
    "    RMSE_dict = {}\n",
    "    \n",
    "    # running through all K options\n",
    "    for k in k_lst:\n",
    "        # initialising model\n",
    "        knn = KNeighborsRegressor(n_neighbors=k)\n",
    "        # fitting model\n",
    "        knn.fit(df_train[features], df_train[target])\n",
    "        # using model to predit target\n",
    "        predicted = knn.predict(df_test[features])\n",
    "        # calculating Root Mean Squared Value\n",
    "        RMSE_dict[k] = mean_squared_error(df_test[target], predicted)**0.5\n",
    "    \n",
    "    return RMSE_dict"
   ]
  },
  {
   "cell_type": "code",
   "execution_count": 19,
   "metadata": {
    "collapsed": false
   },
   "outputs": [
    {
     "data": {
      "text/html": [
       "<div>\n",
       "<style scoped>\n",
       "    .dataframe tbody tr th:only-of-type {\n",
       "        vertical-align: middle;\n",
       "    }\n",
       "\n",
       "    .dataframe tbody tr th {\n",
       "        vertical-align: top;\n",
       "    }\n",
       "\n",
       "    .dataframe thead th {\n",
       "        text-align: right;\n",
       "    }\n",
       "</style>\n",
       "<table border=\"1\" class=\"dataframe\">\n",
       "  <thead>\n",
       "    <tr style=\"text-align: right;\">\n",
       "      <th></th>\n",
       "      <th>bore</th>\n",
       "      <th>city_mpg</th>\n",
       "      <th>compression_ratio</th>\n",
       "      <th>curb_weight</th>\n",
       "      <th>engine_size</th>\n",
       "      <th>height</th>\n",
       "      <th>highway_mpg</th>\n",
       "      <th>horsepower</th>\n",
       "      <th>length</th>\n",
       "      <th>peak_rpm</th>\n",
       "      <th>stroke</th>\n",
       "      <th>wheel_base</th>\n",
       "      <th>width</th>\n",
       "    </tr>\n",
       "  </thead>\n",
       "  <tbody>\n",
       "    <tr>\n",
       "      <th>1</th>\n",
       "      <td>16502.751630</td>\n",
       "      <td>5347.150262</td>\n",
       "      <td>8085.605142</td>\n",
       "      <td>6566.749175</td>\n",
       "      <td>5338.791820</td>\n",
       "      <td>13032.276290</td>\n",
       "      <td>5188.333470</td>\n",
       "      <td>7027.606971</td>\n",
       "      <td>10053.579064</td>\n",
       "      <td>10914.812293</td>\n",
       "      <td>10925.953215</td>\n",
       "      <td>8052.050207</td>\n",
       "      <td>8044.144446</td>\n",
       "    </tr>\n",
       "    <tr>\n",
       "      <th>3</th>\n",
       "      <td>13941.384916</td>\n",
       "      <td>5210.261130</td>\n",
       "      <td>8137.969726</td>\n",
       "      <td>5635.184748</td>\n",
       "      <td>4698.501673</td>\n",
       "      <td>11411.019683</td>\n",
       "      <td>4655.081482</td>\n",
       "      <td>5400.929793</td>\n",
       "      <td>8230.050249</td>\n",
       "      <td>11280.739834</td>\n",
       "      <td>11848.331672</td>\n",
       "      <td>9171.153879</td>\n",
       "      <td>7234.558219</td>\n",
       "    </tr>\n",
       "    <tr>\n",
       "      <th>5</th>\n",
       "      <td>13408.016741</td>\n",
       "      <td>4814.778015</td>\n",
       "      <td>8096.301512</td>\n",
       "      <td>5166.828581</td>\n",
       "      <td>4190.433888</td>\n",
       "      <td>10839.693636</td>\n",
       "      <td>4628.793094</td>\n",
       "      <td>4267.730361</td>\n",
       "      <td>8304.189346</td>\n",
       "      <td>9759.209970</td>\n",
       "      <td>9334.714914</td>\n",
       "      <td>9969.243292</td>\n",
       "      <td>7110.412630</td>\n",
       "    </tr>\n",
       "    <tr>\n",
       "      <th>7</th>\n",
       "      <td>11114.586486</td>\n",
       "      <td>4575.950005</td>\n",
       "      <td>7896.692871</td>\n",
       "      <td>5239.631251</td>\n",
       "      <td>4114.571308</td>\n",
       "      <td>10041.327944</td>\n",
       "      <td>4112.387803</td>\n",
       "      <td>3821.376566</td>\n",
       "      <td>8483.928914</td>\n",
       "      <td>9392.829861</td>\n",
       "      <td>8255.343110</td>\n",
       "      <td>8938.808809</td>\n",
       "      <td>6621.848358</td>\n",
       "    </tr>\n",
       "    <tr>\n",
       "      <th>9</th>\n",
       "      <td>10199.413323</td>\n",
       "      <td>4770.344179</td>\n",
       "      <td>7823.115529</td>\n",
       "      <td>5244.555564</td>\n",
       "      <td>4056.629360</td>\n",
       "      <td>9313.330965</td>\n",
       "      <td>4029.962271</td>\n",
       "      <td>3461.132024</td>\n",
       "      <td>7655.123044</td>\n",
       "      <td>9423.925545</td>\n",
       "      <td>7516.859170</td>\n",
       "      <td>8637.304386</td>\n",
       "      <td>6531.417638</td>\n",
       "    </tr>\n",
       "  </tbody>\n",
       "</table>\n",
       "</div>"
      ],
      "text/plain": [
       "           bore     city_mpg  compression_ratio  curb_weight  engine_size  \\\n",
       "1  16502.751630  5347.150262        8085.605142  6566.749175  5338.791820   \n",
       "3  13941.384916  5210.261130        8137.969726  5635.184748  4698.501673   \n",
       "5  13408.016741  4814.778015        8096.301512  5166.828581  4190.433888   \n",
       "7  11114.586486  4575.950005        7896.692871  5239.631251  4114.571308   \n",
       "9  10199.413323  4770.344179        7823.115529  5244.555564  4056.629360   \n",
       "\n",
       "         height  highway_mpg   horsepower        length      peak_rpm  \\\n",
       "1  13032.276290  5188.333470  7027.606971  10053.579064  10914.812293   \n",
       "3  11411.019683  4655.081482  5400.929793   8230.050249  11280.739834   \n",
       "5  10839.693636  4628.793094  4267.730361   8304.189346   9759.209970   \n",
       "7  10041.327944  4112.387803  3821.376566   8483.928914   9392.829861   \n",
       "9   9313.330965  4029.962271  3461.132024   7655.123044   9423.925545   \n",
       "\n",
       "         stroke   wheel_base        width  \n",
       "1  10925.953215  8052.050207  8044.144446  \n",
       "3  11848.331672  9171.153879  7234.558219  \n",
       "5   9334.714914  9969.243292  7110.412630  \n",
       "7   8255.343110  8938.808809  6621.848358  \n",
       "9   7516.859170  8637.304386  6531.417638  "
      ]
     },
     "execution_count": 19,
     "metadata": {},
     "output_type": "execute_result"
    }
   ],
   "source": [
    "# Running Function for all features\n",
    "RMSE_dict = {} \n",
    "\n",
    "for parameter in norm_numeric_cars.columns.tolist():\n",
    "    if parameter != target:\n",
    "        RMSE_dict[parameter] = knn_train_test(norm_numeric_cars, [parameter],'price')\n",
    "\n",
    "# making series for clearer viewing\n",
    "RMSE_df = pd.DataFrame(RMSE_dict)\n",
    "RMSE_df"
   ]
  },
  {
   "cell_type": "code",
   "execution_count": 21,
   "metadata": {
    "collapsed": false
   },
   "outputs": [
    {
     "data": {
      "image/png": "[encoded data removed]",
      "text/plain": [
       "<matplotlib.figure.Figure at 0x7f295e319f98>"
      ]
     },
     "metadata": {},
     "output_type": "display_data"
    }
   ],
   "source": [
    "for k,v in RMSE_dict.items():\n",
    "    x = list(v.keys())\n",
    "    y = list(v.values())\n",
    "    \n",
    "    plt.plot(x,y, linestyle='none', marker='.', markersize=20)\n",
    "    # plt.legend(loc='lower right')\n",
    "    plt.xlim([0,10])\n",
    "    plt.xlabel('k value')\n",
    "    plt.ylabel('RMSE')\n"
   ]
  },
  {
   "cell_type": "markdown",
   "metadata": {
    "collapsed": true
   },
   "source": [
    "## Multivariate"
   ]
  },
  {
   "cell_type": "code",
   "execution_count": 22,
   "metadata": {
    "collapsed": false
   },
   "outputs": [
    {
     "data": {
      "text/plain": [
       "['engine_size', 'highway_mpg']"
      ]
     },
     "execution_count": 22,
     "metadata": {},
     "output_type": "execute_result"
    }
   ],
   "source": [
    "# Taking avg RSME from univariate model run for each feature to sort \n",
    "# by best feature\n",
    "# will use top features in the multivariate model run\n",
    "\n",
    "RMSE_Means = RMSE_df.mean().sort_values()\n",
    "RMSE_Means.index[0:2].tolist()"
   ]
  },
  {
   "cell_type": "code",
   "execution_count": 87,
   "metadata": {
    "collapsed": false
   },
   "outputs": [
    {
     "name": "stdout",
     "output_type": "stream",
     "text": [
      "{5: 4350.739368552121}\n",
      "{5: 3553.981440358945}\n",
      "{5: 3545.4024213768666}\n",
      "{5: 3869.425714853856}\n"
     ]
    }
   ],
   "source": [
    "two_var_RMSE = knn_train_test(\n",
    "    norm_numeric_cars, \n",
    "    RMSE_Means.index[0:2].tolist(),\n",
    "    'price',\n",
    "    k_lst=[5]\n",
    ")\n",
    "print(two_var_RMSE)\n",
    "\n",
    "three_var_RMSE = knn_train_test(\n",
    "    norm_numeric_cars, \n",
    "    RMSE_Means.index[0:3].tolist(),\n",
    "    'price',\n",
    "    k_lst=[5]\n",
    ")\n",
    "print(three_var_RMSE)\n",
    "\n",
    "four_var_RMSE = knn_train_test(\n",
    "    norm_numeric_cars, \n",
    "    RMSE_Means.index[0:4].tolist(),\n",
    "    'price',\n",
    "    k_lst=[5]\n",
    ")\n",
    "print(four_var_RMSE)\n",
    "\n",
    "five_var_RMSE = knn_train_test(\n",
    "    norm_numeric_cars, \n",
    "    RMSE_Means.index[0:5].tolist(),\n",
    "    'price',\n",
    "    k_lst=[5]\n",
    ")\n",
    "print(five_var_RMSE)"
   ]
  },
  {
   "cell_type": "markdown",
   "metadata": {},
   "source": [
    "### Grid search for hyperparameter\n",
    "\n",
    "The results from above show using top 3, 4 and 5 features are giving a lower RMSE then using just top 2 features. Will run grid search for just those 3 combination of features"
   ]
  },
  {
   "cell_type": "markdown",
   "metadata": {},
   "source": [
    "Running model for with three top features"
   ]
  },
  {
   "cell_type": "code",
   "execution_count": 88,
   "metadata": {
    "collapsed": false
   },
   "outputs": [
    {
     "data": {
      "image/png": "[encoded data removed]",
      "text/plain": [
       "<matplotlib.figure.Figure at 0x7f295bc5d550>"
      ]
     },
     "metadata": {},
     "output_type": "display_data"
    }
   ],
   "source": [
    "# 3 features\n",
    "\n",
    "K_lst = list(range(1,26))\n",
    "    \n",
    "three_var_RMSE = knn_train_test(\n",
    "    norm_numeric_cars, \n",
    "    RMSE_Means.index[0:3].tolist(),\n",
    "    'price',\n",
    "    k_lst=K_lst\n",
    ")\n",
    "three = pd.Series(three_var_RMSE)\n",
    "three.plot(linestyle='dotted',\n",
    "           marker='.', \n",
    "           markersize=15,\n",
    "           c='purple',\n",
    "          figsize=(8,5))\n",
    "plt.xlim([0,26])\n",
    "plt.xlabel('K Values')\n",
    "plt.axhline(three.min(),color='gray',linestyle='dashed')\n",
    "plt.ylabel('RMSE')\n",
    "plt.show()"
   ]
  },
  {
   "cell_type": "markdown",
   "metadata": {},
   "source": [
    "Running model for with four top features"
   ]
  },
  {
   "cell_type": "code",
   "execution_count": 89,
   "metadata": {
    "collapsed": false
   },
   "outputs": [
    {
     "data": {
      "image/png": "[encoded data removed]",
      "text/plain": [
       "<matplotlib.figure.Figure at 0x7f295e32ea58>"
      ]
     },
     "metadata": {},
     "output_type": "display_data"
    }
   ],
   "source": [
    "# 4 features\n",
    "\n",
    "K_lst = list(range(1,26))\n",
    "    \n",
    "three_var_RMSE = knn_train_test(\n",
    "    norm_numeric_cars, \n",
    "    RMSE_Means.index[0:4].tolist(),\n",
    "    'price',\n",
    "    k_lst=K_lst\n",
    ")\n",
    "four = pd.Series(three_var_RMSE)\n",
    "four.plot(linestyle='dotted',\n",
    "           marker='.', \n",
    "           markersize=15,\n",
    "           c='purple',\n",
    "          figsize=(8,5))\n",
    "plt.xlim([0,26])\n",
    "plt.xlabel('K Values')\n",
    "plt.axhline(four.min(),color='gray',linestyle='dashed')\n",
    "plt.ylabel('RMSE')\n",
    "plt.show()"
   ]
  },
  {
   "cell_type": "markdown",
   "metadata": {},
   "source": [
    "Running model for with five top features"
   ]
  },
  {
   "cell_type": "code",
   "execution_count": 90,
   "metadata": {
    "collapsed": false
   },
   "outputs": [
    {
     "data": {
      "image/png": "[encoded data removed]",
      "text/plain": [
       "<matplotlib.figure.Figure at 0x7f295e4f1780>"
      ]
     },
     "metadata": {},
     "output_type": "display_data"
    }
   ],
   "source": [
    "# 5 features\n",
    "\n",
    "K_lst = list(range(1,26))\n",
    "    \n",
    "three_var_RMSE = knn_train_test(\n",
    "    norm_numeric_cars, \n",
    "    RMSE_Means.index[0:5].tolist(),\n",
    "    'price',\n",
    "    k_lst=K_lst\n",
    ")\n",
    "five = pd.Series(three_var_RMSE)\n",
    "five.plot(linestyle='dotted',\n",
    "           marker='.', \n",
    "           markersize=15,\n",
    "           c='purple',\n",
    "          figsize=(8,5))\n",
    "plt.xlim([0,26])\n",
    "plt.xlabel('K Values')\n",
    "plt.axhline(five.min(),color='gray',linestyle='dashed')\n",
    "plt.ylabel('RMSE')\n",
    "plt.show()"
   ]
  },
  {
   "cell_type": "code",
   "execution_count": 91,
   "metadata": {
    "collapsed": false
   },
   "outputs": [
    {
     "data": {
      "image/png": "[encoded data removed]",
      "text/plain": [
       "<matplotlib.figure.Figure at 0x7f295e32e240>"
      ]
     },
     "metadata": {},
     "output_type": "display_data"
    }
   ],
   "source": [
    "label_lst = ['three', 'four', 'five']\n",
    "\n",
    "for i, v in enumerate([three, four, five]):\n",
    "    x = list(v.index)\n",
    "    y = list(v.values)\n",
    "    plt.plot(\n",
    "               x,\n",
    "               y,\n",
    "               linestyle='dotted',\n",
    "               marker='.', \n",
    "               markersize=15,\n",
    "               label=label_lst[i]\n",
    "              )\n",
    "plt.legend()\n",
    "plt.xlim([0,26])\n",
    "plt.xlabel('K Values')\n",
    "# plt.axhline(three.min(),color='gray',linestyle='dashed')\n",
    "plt.ylabel('RMSE')\n",
    "plt.show()"
   ]
  },
  {
   "cell_type": "markdown",
   "metadata": {},
   "source": [
    "From this we can clearly we that running the model with the Top 4 feature and K set at 9 is giving the lowest RMSE. You can also see that running the model with just the top 3 features is also giving an RMSE value very close to the RMSE value of the "
   ]
  }
 ],
 "metadata": {
  "kernelspec": {
   "display_name": "Python 3",
   "language": "python",
   "name": "python3"
  },
  "language_info": {
   "codemirror_mode": {
    "name": "ipython",
    "version": 3
   },
   "file_extension": ".py",
   "mimetype": "text/x-python",
   "name": "python",
   "nbconvert_exporter": "python",
   "pygments_lexer": "ipython3",
   "version": "3.4.3"
  }
 },
 "nbformat": 4,
 "nbformat_minor": 2
}
